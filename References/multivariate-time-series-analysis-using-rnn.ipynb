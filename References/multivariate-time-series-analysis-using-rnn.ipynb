{
 "cells": [
  {
   "cell_type": "code",
   "execution_count": 1,
   "metadata": {
    "_cell_guid": "b1076dfc-b9ad-4769-8c92-a6c4dae69d19",
    "_uuid": "8f2839f25d086af736a60e9eeb907d3b93b6e0e5",
    "papermill": {
     "duration": 0.08626,
     "end_time": "2020-10-09T08:30:32.851991",
     "exception": false,
     "start_time": "2020-10-09T08:30:32.765731",
     "status": "completed"
    },
    "tags": []
   },
   "outputs": [],
   "source": [
    "# This Python 3 environment comes with many helpful analytics libraries installed\n",
    "# It is defined by the kaggle/python Docker image: https://github.com/kaggle/docker-python\n",
    "# For example, here's several helpful packages to load\n",
    "%matplotlib inline\n",
    "import matplotlib.pyplot as plt\n",
    "import numpy as np # linear algebra\n",
    "import pandas as pd # data processing, CSV file I/O (e.g. pd.read_csv)\n",
    "\n",
    "# Input data files are available in the read-only \"../input/\" directory\n",
    "# For example, running this (by clicking run or pressing Shift+Enter) will list all files under the input directory\n",
    "\n",
    "import os\n",
    "for dirname, _, filenames in os.walk('/kaggle/input'):\n",
    "    for filename in filenames:\n",
    "        print(os.path.join(dirname, filename))\n",
    "\n",
    "# You can write up to 5GB to the current directory (/kaggle/working/) that gets preserved as output when you create a version using \"Save & Run All\" \n",
    "# You can also write temporary files to /kaggle/temp/, but they won't be saved outside of the current session"
   ]
  },
  {
   "cell_type": "code",
   "execution_count": 12,
   "metadata": {
    "papermill": {
     "duration": 0.084721,
     "end_time": "2020-10-09T08:30:32.992430",
     "exception": false,
     "start_time": "2020-10-09T08:30:32.907709",
     "status": "completed"
    },
    "tags": []
   },
   "outputs": [],
   "source": [
    "train=pd.read_csv(\"prices-split-adjusted.csv\")"
   ]
  },
  {
   "cell_type": "code",
   "execution_count": 13,
   "metadata": {
    "papermill": {
     "duration": 0.066015,
     "end_time": "2020-10-09T08:30:33.094199",
     "exception": false,
     "start_time": "2020-10-09T08:30:33.028184",
     "status": "completed"
    },
    "tags": []
   },
   "outputs": [
    {
     "data": {
      "text/html": [
       "<div>\n",
       "<style scoped>\n",
       "    .dataframe tbody tr th:only-of-type {\n",
       "        vertical-align: middle;\n",
       "    }\n",
       "\n",
       "    .dataframe tbody tr th {\n",
       "        vertical-align: top;\n",
       "    }\n",
       "\n",
       "    .dataframe thead th {\n",
       "        text-align: right;\n",
       "    }\n",
       "</style>\n",
       "<table border=\"1\" class=\"dataframe\">\n",
       "  <thead>\n",
       "    <tr style=\"text-align: right;\">\n",
       "      <th></th>\n",
       "      <th>date</th>\n",
       "      <th>symbol</th>\n",
       "      <th>open</th>\n",
       "      <th>close</th>\n",
       "      <th>low</th>\n",
       "      <th>high</th>\n",
       "      <th>volume</th>\n",
       "    </tr>\n",
       "  </thead>\n",
       "  <tbody>\n",
       "    <tr>\n",
       "      <th>851259</th>\n",
       "      <td>2016-12-30</td>\n",
       "      <td>ZBH</td>\n",
       "      <td>103.309998</td>\n",
       "      <td>103.199997</td>\n",
       "      <td>102.849998</td>\n",
       "      <td>103.930000</td>\n",
       "      <td>973800.0</td>\n",
       "    </tr>\n",
       "    <tr>\n",
       "      <th>851260</th>\n",
       "      <td>2016-12-30</td>\n",
       "      <td>ZION</td>\n",
       "      <td>43.070000</td>\n",
       "      <td>43.040001</td>\n",
       "      <td>42.689999</td>\n",
       "      <td>43.310001</td>\n",
       "      <td>1938100.0</td>\n",
       "    </tr>\n",
       "    <tr>\n",
       "      <th>851261</th>\n",
       "      <td>2016-12-30</td>\n",
       "      <td>ZTS</td>\n",
       "      <td>53.639999</td>\n",
       "      <td>53.529999</td>\n",
       "      <td>53.270000</td>\n",
       "      <td>53.740002</td>\n",
       "      <td>1701200.0</td>\n",
       "    </tr>\n",
       "    <tr>\n",
       "      <th>851262</th>\n",
       "      <td>2016-12-30</td>\n",
       "      <td>AIV</td>\n",
       "      <td>44.730000</td>\n",
       "      <td>45.450001</td>\n",
       "      <td>44.410000</td>\n",
       "      <td>45.590000</td>\n",
       "      <td>1380900.0</td>\n",
       "    </tr>\n",
       "    <tr>\n",
       "      <th>851263</th>\n",
       "      <td>2016-12-30</td>\n",
       "      <td>FTV</td>\n",
       "      <td>54.200001</td>\n",
       "      <td>53.630001</td>\n",
       "      <td>53.389999</td>\n",
       "      <td>54.480000</td>\n",
       "      <td>705100.0</td>\n",
       "    </tr>\n",
       "  </tbody>\n",
       "</table>\n",
       "</div>"
      ],
      "text/plain": [
       "              date symbol        open       close         low        high  \\\n",
       "851259  2016-12-30    ZBH  103.309998  103.199997  102.849998  103.930000   \n",
       "851260  2016-12-30   ZION   43.070000   43.040001   42.689999   43.310001   \n",
       "851261  2016-12-30    ZTS   53.639999   53.529999   53.270000   53.740002   \n",
       "851262  2016-12-30    AIV   44.730000   45.450001   44.410000   45.590000   \n",
       "851263  2016-12-30    FTV   54.200001   53.630001   53.389999   54.480000   \n",
       "\n",
       "           volume  \n",
       "851259   973800.0  \n",
       "851260  1938100.0  \n",
       "851261  1701200.0  \n",
       "851262  1380900.0  \n",
       "851263   705100.0  "
      ]
     },
     "execution_count": 13,
     "metadata": {},
     "output_type": "execute_result"
    }
   ],
   "source": [
    "train.tail()"
   ]
  },
  {
   "cell_type": "code",
   "execution_count": 4,
   "metadata": {
    "execution": {
     "iopub.execute_input": "2020-10-09T08:30:33.178186Z",
     "iopub.status.busy": "2020-10-09T08:30:33.177150Z",
     "iopub.status.idle": "2020-10-09T08:30:33.180657Z",
     "shell.execute_reply": "2020-10-09T08:30:33.179971Z"
    },
    "papermill": {
     "duration": 0.04728,
     "end_time": "2020-10-09T08:30:33.180781",
     "exception": false,
     "start_time": "2020-10-09T08:30:33.133501",
     "status": "completed"
    },
    "tags": []
   },
   "outputs": [],
   "source": [
    "train.drop([\"Name\"],axis=1,inplace=True)"
   ]
  },
  {
   "cell_type": "code",
   "execution_count": 5,
   "metadata": {
    "execution": {
     "iopub.execute_input": "2020-10-09T08:30:33.271110Z",
     "iopub.status.busy": "2020-10-09T08:30:33.269978Z",
     "iopub.status.idle": "2020-10-09T08:30:33.274279Z",
     "shell.execute_reply": "2020-10-09T08:30:33.275069Z"
    },
    "papermill": {
     "duration": 0.059301,
     "end_time": "2020-10-09T08:30:33.275225",
     "exception": false,
     "start_time": "2020-10-09T08:30:33.215924",
     "status": "completed"
    },
    "tags": []
   },
   "outputs": [
    {
     "data": {
      "text/html": [
       "<div>\n",
       "<style scoped>\n",
       "    .dataframe tbody tr th:only-of-type {\n",
       "        vertical-align: middle;\n",
       "    }\n",
       "\n",
       "    .dataframe tbody tr th {\n",
       "        vertical-align: top;\n",
       "    }\n",
       "\n",
       "    .dataframe thead th {\n",
       "        text-align: right;\n",
       "    }\n",
       "</style>\n",
       "<table border=\"1\" class=\"dataframe\">\n",
       "  <thead>\n",
       "    <tr style=\"text-align: right;\">\n",
       "      <th></th>\n",
       "      <th>Date</th>\n",
       "      <th>Open</th>\n",
       "      <th>High</th>\n",
       "      <th>Low</th>\n",
       "      <th>Close</th>\n",
       "      <th>Volume</th>\n",
       "    </tr>\n",
       "  </thead>\n",
       "  <tbody>\n",
       "    <tr>\n",
       "      <th>0</th>\n",
       "      <td>2006-01-03</td>\n",
       "      <td>57.87</td>\n",
       "      <td>58.11</td>\n",
       "      <td>57.05</td>\n",
       "      <td>57.80</td>\n",
       "      <td>3697500</td>\n",
       "    </tr>\n",
       "    <tr>\n",
       "      <th>1</th>\n",
       "      <td>2006-01-04</td>\n",
       "      <td>57.95</td>\n",
       "      <td>59.43</td>\n",
       "      <td>57.55</td>\n",
       "      <td>59.27</td>\n",
       "      <td>4577200</td>\n",
       "    </tr>\n",
       "    <tr>\n",
       "      <th>2</th>\n",
       "      <td>2006-01-05</td>\n",
       "      <td>59.02</td>\n",
       "      <td>59.86</td>\n",
       "      <td>59.00</td>\n",
       "      <td>59.27</td>\n",
       "      <td>4590700</td>\n",
       "    </tr>\n",
       "    <tr>\n",
       "      <th>3</th>\n",
       "      <td>2006-01-06</td>\n",
       "      <td>59.47</td>\n",
       "      <td>60.76</td>\n",
       "      <td>59.38</td>\n",
       "      <td>60.45</td>\n",
       "      <td>5692300</td>\n",
       "    </tr>\n",
       "    <tr>\n",
       "      <th>4</th>\n",
       "      <td>2006-01-09</td>\n",
       "      <td>60.45</td>\n",
       "      <td>61.68</td>\n",
       "      <td>60.45</td>\n",
       "      <td>61.55</td>\n",
       "      <td>4409300</td>\n",
       "    </tr>\n",
       "    <tr>\n",
       "      <th>...</th>\n",
       "      <td>...</td>\n",
       "      <td>...</td>\n",
       "      <td>...</td>\n",
       "      <td>...</td>\n",
       "      <td>...</td>\n",
       "      <td>...</td>\n",
       "    </tr>\n",
       "    <tr>\n",
       "      <th>3015</th>\n",
       "      <td>2017-12-22</td>\n",
       "      <td>154.77</td>\n",
       "      <td>155.80</td>\n",
       "      <td>153.95</td>\n",
       "      <td>155.75</td>\n",
       "      <td>2486378</td>\n",
       "    </tr>\n",
       "    <tr>\n",
       "      <th>3016</th>\n",
       "      <td>2017-12-26</td>\n",
       "      <td>156.04</td>\n",
       "      <td>156.98</td>\n",
       "      <td>155.66</td>\n",
       "      <td>156.44</td>\n",
       "      <td>1870565</td>\n",
       "    </tr>\n",
       "    <tr>\n",
       "      <th>3017</th>\n",
       "      <td>2017-12-27</td>\n",
       "      <td>156.94</td>\n",
       "      <td>157.69</td>\n",
       "      <td>156.31</td>\n",
       "      <td>157.52</td>\n",
       "      <td>2520486</td>\n",
       "    </tr>\n",
       "    <tr>\n",
       "      <th>3018</th>\n",
       "      <td>2017-12-28</td>\n",
       "      <td>157.94</td>\n",
       "      <td>158.65</td>\n",
       "      <td>157.23</td>\n",
       "      <td>158.42</td>\n",
       "      <td>4064049</td>\n",
       "    </tr>\n",
       "    <tr>\n",
       "      <th>3019</th>\n",
       "      <td>2017-12-29</td>\n",
       "      <td>158.05</td>\n",
       "      <td>158.50</td>\n",
       "      <td>157.51</td>\n",
       "      <td>157.58</td>\n",
       "      <td>2616142</td>\n",
       "    </tr>\n",
       "  </tbody>\n",
       "</table>\n",
       "<p>3020 rows × 6 columns</p>\n",
       "</div>"
      ],
      "text/plain": [
       "            Date    Open    High     Low   Close   Volume\n",
       "0     2006-01-03   57.87   58.11   57.05   57.80  3697500\n",
       "1     2006-01-04   57.95   59.43   57.55   59.27  4577200\n",
       "2     2006-01-05   59.02   59.86   59.00   59.27  4590700\n",
       "3     2006-01-06   59.47   60.76   59.38   60.45  5692300\n",
       "4     2006-01-09   60.45   61.68   60.45   61.55  4409300\n",
       "...          ...     ...     ...     ...     ...      ...\n",
       "3015  2017-12-22  154.77  155.80  153.95  155.75  2486378\n",
       "3016  2017-12-26  156.04  156.98  155.66  156.44  1870565\n",
       "3017  2017-12-27  156.94  157.69  156.31  157.52  2520486\n",
       "3018  2017-12-28  157.94  158.65  157.23  158.42  4064049\n",
       "3019  2017-12-29  158.05  158.50  157.51  157.58  2616142\n",
       "\n",
       "[3020 rows x 6 columns]"
      ]
     },
     "execution_count": 5,
     "metadata": {},
     "output_type": "execute_result"
    }
   ],
   "source": [
    "train"
   ]
  },
  {
   "cell_type": "code",
   "execution_count": 15,
   "metadata": {
    "papermill": {
     "duration": 0.055605,
     "end_time": "2020-10-09T08:30:33.371720",
     "exception": false,
     "start_time": "2020-10-09T08:30:33.316115",
     "status": "completed"
    },
    "tags": []
   },
   "outputs": [
    {
     "name": "stderr",
     "output_type": "stream",
     "text": [
      "/var/folders/1g/0mj97r555d15d54dx2257j7m0000gn/T/ipykernel_43902/3585436080.py:1: UserWarning: The argument 'infer_datetime_format' is deprecated and will be removed in a future version. A strict version of it is now the default, see https://pandas.pydata.org/pdeps/0004-consistent-to-datetime-parsing.html. You can safely remove this argument.\n",
      "  train[\"date\"]=pd.to_datetime(train[\"date\"],infer_datetime_format=True)\n"
     ]
    }
   ],
   "source": [
    "train[\"date\"]=pd.to_datetime(train[\"date\"],infer_datetime_format=True)"
   ]
  },
  {
   "cell_type": "code",
   "execution_count": 16,
   "metadata": {
    "papermill": {
     "duration": 0.047211,
     "end_time": "2020-10-09T08:30:33.453432",
     "exception": false,
     "start_time": "2020-10-09T08:30:33.406221",
     "status": "completed"
    },
    "tags": []
   },
   "outputs": [],
   "source": [
    "train=train.set_index(['date'])"
   ]
  },
  {
   "cell_type": "code",
   "execution_count": 17,
   "metadata": {
    "papermill": {
     "duration": 0.053082,
     "end_time": "2020-10-09T08:30:33.542276",
     "exception": false,
     "start_time": "2020-10-09T08:30:33.489194",
     "status": "completed"
    },
    "tags": []
   },
   "outputs": [
    {
     "data": {
      "text/html": [
       "<div>\n",
       "<style scoped>\n",
       "    .dataframe tbody tr th:only-of-type {\n",
       "        vertical-align: middle;\n",
       "    }\n",
       "\n",
       "    .dataframe tbody tr th {\n",
       "        vertical-align: top;\n",
       "    }\n",
       "\n",
       "    .dataframe thead th {\n",
       "        text-align: right;\n",
       "    }\n",
       "</style>\n",
       "<table border=\"1\" class=\"dataframe\">\n",
       "  <thead>\n",
       "    <tr style=\"text-align: right;\">\n",
       "      <th></th>\n",
       "      <th>symbol</th>\n",
       "      <th>open</th>\n",
       "      <th>close</th>\n",
       "      <th>low</th>\n",
       "      <th>high</th>\n",
       "      <th>volume</th>\n",
       "    </tr>\n",
       "    <tr>\n",
       "      <th>date</th>\n",
       "      <th></th>\n",
       "      <th></th>\n",
       "      <th></th>\n",
       "      <th></th>\n",
       "      <th></th>\n",
       "      <th></th>\n",
       "    </tr>\n",
       "  </thead>\n",
       "  <tbody>\n",
       "    <tr>\n",
       "      <th>2016-01-05</th>\n",
       "      <td>WLTW</td>\n",
       "      <td>123.430000</td>\n",
       "      <td>125.839996</td>\n",
       "      <td>122.309998</td>\n",
       "      <td>126.250000</td>\n",
       "      <td>2163600.0</td>\n",
       "    </tr>\n",
       "    <tr>\n",
       "      <th>2016-01-06</th>\n",
       "      <td>WLTW</td>\n",
       "      <td>125.239998</td>\n",
       "      <td>119.980003</td>\n",
       "      <td>119.940002</td>\n",
       "      <td>125.540001</td>\n",
       "      <td>2386400.0</td>\n",
       "    </tr>\n",
       "    <tr>\n",
       "      <th>2016-01-07</th>\n",
       "      <td>WLTW</td>\n",
       "      <td>116.379997</td>\n",
       "      <td>114.949997</td>\n",
       "      <td>114.930000</td>\n",
       "      <td>119.739998</td>\n",
       "      <td>2489500.0</td>\n",
       "    </tr>\n",
       "    <tr>\n",
       "      <th>2016-01-08</th>\n",
       "      <td>WLTW</td>\n",
       "      <td>115.480003</td>\n",
       "      <td>116.620003</td>\n",
       "      <td>113.500000</td>\n",
       "      <td>117.440002</td>\n",
       "      <td>2006300.0</td>\n",
       "    </tr>\n",
       "    <tr>\n",
       "      <th>2016-01-11</th>\n",
       "      <td>WLTW</td>\n",
       "      <td>117.010002</td>\n",
       "      <td>114.970001</td>\n",
       "      <td>114.089996</td>\n",
       "      <td>117.330002</td>\n",
       "      <td>1408600.0</td>\n",
       "    </tr>\n",
       "  </tbody>\n",
       "</table>\n",
       "</div>"
      ],
      "text/plain": [
       "           symbol        open       close         low        high     volume\n",
       "date                                                                        \n",
       "2016-01-05   WLTW  123.430000  125.839996  122.309998  126.250000  2163600.0\n",
       "2016-01-06   WLTW  125.239998  119.980003  119.940002  125.540001  2386400.0\n",
       "2016-01-07   WLTW  116.379997  114.949997  114.930000  119.739998  2489500.0\n",
       "2016-01-08   WLTW  115.480003  116.620003  113.500000  117.440002  2006300.0\n",
       "2016-01-11   WLTW  117.010002  114.970001  114.089996  117.330002  1408600.0"
      ]
     },
     "execution_count": 17,
     "metadata": {},
     "output_type": "execute_result"
    }
   ],
   "source": [
    "train.head()"
   ]
  },
  {
   "cell_type": "code",
   "execution_count": 18,
   "metadata": {
    "papermill": {
     "duration": 0.050201,
     "end_time": "2020-10-09T08:30:33.633084",
     "exception": false,
     "start_time": "2020-10-09T08:30:33.582883",
     "status": "completed"
    },
    "tags": []
   },
   "outputs": [],
   "source": [
    "from matplotlib.pylab import rcParams\n",
    "rcParams['figure.figsize']=10,6\n"
   ]
  },
  {
   "cell_type": "code",
   "execution_count": 20,
   "metadata": {
    "papermill": {
     "duration": 0.378297,
     "end_time": "2020-10-09T08:30:34.051756",
     "exception": false,
     "start_time": "2020-10-09T08:30:33.673459",
     "status": "completed"
    },
    "tags": []
   },
   "outputs": [
    {
     "data": {
      "text/plain": [
       "Text(0.5, 0, 'open')"
      ]
     },
     "execution_count": 20,
     "metadata": {},
     "output_type": "execute_result"
    },
    {
     "data": {
      "image/png": "[encoded data removed]",
      "text/plain": [
       "<Figure size 1000x600 with 1 Axes>"
      ]
     },
     "metadata": {},
     "output_type": "display_data"
    }
   ],
   "source": [
    "train[\"open\"].plot()\n",
    "plt.xlabel(\"open\")"
   ]
  },
  {
   "cell_type": "code",
   "execution_count": 21,
   "metadata": {
    "papermill": {
     "duration": 0.234392,
     "end_time": "2020-10-09T08:30:34.326742",
     "exception": false,
     "start_time": "2020-10-09T08:30:34.092350",
     "status": "completed"
    },
    "tags": []
   },
   "outputs": [
    {
     "data": {
      "text/plain": [
       "Text(0.5, 0, 'High')"
      ]
     },
     "execution_count": 21,
     "metadata": {},
     "output_type": "execute_result"
    },
    {
     "data": {
      "image/png": "[encoded data removed]",
      "text/plain": [
       "<Figure size 1000x600 with 1 Axes>"
      ]
     },
     "metadata": {},
     "output_type": "display_data"
    }
   ],
   "source": [
    "train[\"high\"].plot()\n",
    "plt.xlabel(\"High\")"
   ]
  },
  {
   "cell_type": "code",
   "execution_count": 22,
   "metadata": {
    "_cell_guid": "79c7e3d0-c299-4dcb-8224-4455121ee9b0",
    "_uuid": "d629ff2d2480ee46fbb7e2d37f6b5fab8052498a",
    "papermill": {
     "duration": 0.254901,
     "end_time": "2020-10-09T08:30:34.626283",
     "exception": false,
     "start_time": "2020-10-09T08:30:34.371382",
     "status": "completed"
    },
    "tags": []
   },
   "outputs": [
    {
     "data": {
      "text/plain": [
       "Text(0.5, 0, 'Low')"
      ]
     },
     "execution_count": 22,
     "metadata": {},
     "output_type": "execute_result"
    },
    {
     "data": {
      "image/png": "[encoded data removed]",
      "text/plain": [
       "<Figure size 1000x600 with 1 Axes>"
      ]
     },
     "metadata": {},
     "output_type": "display_data"
    }
   ],
   "source": [
    "train[\"low\"].plot()\n",
    "plt.xlabel(\"Low\")"
   ]
  },
  {
   "cell_type": "code",
   "execution_count": 23,
   "metadata": {
    "papermill": {
     "duration": 0.247918,
     "end_time": "2020-10-09T08:30:34.921103",
     "exception": false,
     "start_time": "2020-10-09T08:30:34.673185",
     "status": "completed"
    },
    "tags": []
   },
   "outputs": [
    {
     "data": {
      "text/plain": [
       "Text(0.5, 0, 'Close')"
      ]
     },
     "execution_count": 23,
     "metadata": {},
     "output_type": "execute_result"
    },
    {
     "data": {
      "image/png": "[encoded data removed]",
      "text/plain": [
       "<Figure size 1000x600 with 1 Axes>"
      ]
     },
     "metadata": {},
     "output_type": "display_data"
    }
   ],
   "source": [
    "train[\"close\"].plot()\n",
    "plt.xlabel(\"Close\")"
   ]
  },
  {
   "cell_type": "code",
   "execution_count": 24,
   "metadata": {
    "papermill": {
     "duration": 0.250284,
     "end_time": "2020-10-09T08:30:35.220004",
     "exception": false,
     "start_time": "2020-10-09T08:30:34.969720",
     "status": "completed"
    },
    "tags": []
   },
   "outputs": [
    {
     "data": {
      "text/plain": [
       "Text(0.5, 0, 'Volume')"
      ]
     },
     "execution_count": 24,
     "metadata": {},
     "output_type": "execute_result"
    },
    {
     "data": {
      "image/png": "[encoded data removed]",
      "text/plain": [
       "<Figure size 1000x600 with 1 Axes>"
      ]
     },
     "metadata": {},
     "output_type": "display_data"
    }
   ],
   "source": [
    "train[\"volume\"].plot()\n",
    "plt.xlabel(\"Volume\")"
   ]
  },
  {
   "cell_type": "code",
   "execution_count": 25,
   "metadata": {
    "papermill": {
     "duration": 0.908637,
     "end_time": "2020-10-09T08:30:36.179884",
     "exception": false,
     "start_time": "2020-10-09T08:30:35.271247",
     "status": "completed"
    },
    "tags": []
   },
   "outputs": [
    {
     "name": "stderr",
     "output_type": "stream",
     "text": [
      "/Users/sibivishtan/anaconda3/envs/cive_env/lib/python3.11/site-packages/sklearn/utils/validation.py:767: FutureWarning: is_sparse is deprecated and will be removed in a future version. Check `isinstance(dtype, pd.SparseDtype)` instead.\n",
      "  if not hasattr(array, \"sparse\") and array.dtypes.apply(is_sparse).any():\n",
      "/Users/sibivishtan/anaconda3/envs/cive_env/lib/python3.11/site-packages/sklearn/utils/validation.py:605: FutureWarning: is_sparse is deprecated and will be removed in a future version. Check `isinstance(dtype, pd.SparseDtype)` instead.\n",
      "  if is_sparse(pd_dtype):\n",
      "/Users/sibivishtan/anaconda3/envs/cive_env/lib/python3.11/site-packages/sklearn/utils/validation.py:614: FutureWarning: is_sparse is deprecated and will be removed in a future version. Check `isinstance(dtype, pd.SparseDtype)` instead.\n",
      "  if is_sparse(pd_dtype) or not is_extension_array_dtype(pd_dtype):\n"
     ]
    },
    {
     "ename": "ValueError",
     "evalue": "could not convert string to float: 'WLTW'",
     "output_type": "error",
     "traceback": [
      "\u001b[0;31m---------------------------------------------------------------------------\u001b[0m",
      "\u001b[0;31mValueError\u001b[0m                                Traceback (most recent call last)",
      "\u001b[0;32m/var/folders/1g/0mj97r555d15d54dx2257j7m0000gn/T/ipykernel_43902/2143959216.py\u001b[0m in \u001b[0;36m?\u001b[0;34m()\u001b[0m\n\u001b[1;32m      1\u001b[0m \u001b[0;32mfrom\u001b[0m \u001b[0msklearn\u001b[0m\u001b[0;34m.\u001b[0m\u001b[0mpreprocessing\u001b[0m \u001b[0;32mimport\u001b[0m \u001b[0mMinMaxScaler\u001b[0m\u001b[0;34m\u001b[0m\u001b[0;34m\u001b[0m\u001b[0m\n\u001b[1;32m      2\u001b[0m \u001b[0mscale\u001b[0m\u001b[0;34m=\u001b[0m\u001b[0mMinMaxScaler\u001b[0m\u001b[0;34m(\u001b[0m\u001b[0;34m)\u001b[0m\u001b[0;34m\u001b[0m\u001b[0;34m\u001b[0m\u001b[0m\n\u001b[0;32m----> 3\u001b[0;31m \u001b[0mscale\u001b[0m\u001b[0;34m=\u001b[0m\u001b[0mscale\u001b[0m\u001b[0;34m.\u001b[0m\u001b[0mfit\u001b[0m\u001b[0;34m(\u001b[0m\u001b[0mtrain\u001b[0m\u001b[0;34m)\u001b[0m\u001b[0;34m\u001b[0m\u001b[0;34m\u001b[0m\u001b[0m\n\u001b[0m\u001b[1;32m      4\u001b[0m \u001b[0mdata\u001b[0m\u001b[0;34m=\u001b[0m\u001b[0mscale\u001b[0m\u001b[0;34m.\u001b[0m\u001b[0mtransform\u001b[0m\u001b[0;34m(\u001b[0m\u001b[0mtrain\u001b[0m\u001b[0;34m)\u001b[0m\u001b[0;34m\u001b[0m\u001b[0;34m\u001b[0m\u001b[0m\n",
      "\u001b[0;32m~/anaconda3/envs/cive_env/lib/python3.11/site-packages/sklearn/preprocessing/_data.py\u001b[0m in \u001b[0;36m?\u001b[0;34m(self, X, y)\u001b[0m\n\u001b[1;32m    423\u001b[0m             \u001b[0mFitted\u001b[0m \u001b[0mscaler\u001b[0m\u001b[0;34m.\u001b[0m\u001b[0;34m\u001b[0m\u001b[0;34m\u001b[0m\u001b[0m\n\u001b[1;32m    424\u001b[0m         \"\"\"\n\u001b[1;32m    425\u001b[0m         \u001b[0;31m# Reset internal state before fitting\u001b[0m\u001b[0;34m\u001b[0m\u001b[0;34m\u001b[0m\u001b[0m\n\u001b[1;32m    426\u001b[0m         \u001b[0mself\u001b[0m\u001b[0;34m.\u001b[0m\u001b[0m_reset\u001b[0m\u001b[0;34m(\u001b[0m\u001b[0;34m)\u001b[0m\u001b[0;34m\u001b[0m\u001b[0;34m\u001b[0m\u001b[0m\n\u001b[0;32m--> 427\u001b[0;31m         \u001b[0;32mreturn\u001b[0m \u001b[0mself\u001b[0m\u001b[0;34m.\u001b[0m\u001b[0mpartial_fit\u001b[0m\u001b[0;34m(\u001b[0m\u001b[0mX\u001b[0m\u001b[0;34m,\u001b[0m \u001b[0my\u001b[0m\u001b[0;34m)\u001b[0m\u001b[0;34m\u001b[0m\u001b[0;34m\u001b[0m\u001b[0m\n\u001b[0m",
      "\u001b[0;32m~/anaconda3/envs/cive_env/lib/python3.11/site-packages/sklearn/preprocessing/_data.py\u001b[0m in \u001b[0;36m?\u001b[0;34m(self, X, y)\u001b[0m\n\u001b[1;32m    462\u001b[0m                 \u001b[0;34m\"Consider using MaxAbsScaler instead.\"\u001b[0m\u001b[0;34m\u001b[0m\u001b[0;34m\u001b[0m\u001b[0m\n\u001b[1;32m    463\u001b[0m             )\n\u001b[1;32m    464\u001b[0m \u001b[0;34m\u001b[0m\u001b[0m\n\u001b[1;32m    465\u001b[0m         \u001b[0mfirst_pass\u001b[0m \u001b[0;34m=\u001b[0m \u001b[0;32mnot\u001b[0m \u001b[0mhasattr\u001b[0m\u001b[0;34m(\u001b[0m\u001b[0mself\u001b[0m\u001b[0;34m,\u001b[0m \u001b[0;34m\"n_samples_seen_\"\u001b[0m\u001b[0;34m)\u001b[0m\u001b[0;34m\u001b[0m\u001b[0;34m\u001b[0m\u001b[0m\n\u001b[0;32m--> 466\u001b[0;31m         X = self._validate_data(\n\u001b[0m\u001b[1;32m    467\u001b[0m             \u001b[0mX\u001b[0m\u001b[0;34m,\u001b[0m\u001b[0;34m\u001b[0m\u001b[0;34m\u001b[0m\u001b[0m\n\u001b[1;32m    468\u001b[0m             \u001b[0mreset\u001b[0m\u001b[0;34m=\u001b[0m\u001b[0mfirst_pass\u001b[0m\u001b[0;34m,\u001b[0m\u001b[0;34m\u001b[0m\u001b[0;34m\u001b[0m\u001b[0m\n\u001b[1;32m    469\u001b[0m             \u001b[0mdtype\u001b[0m\u001b[0;34m=\u001b[0m\u001b[0mFLOAT_DTYPES\u001b[0m\u001b[0;34m,\u001b[0m\u001b[0;34m\u001b[0m\u001b[0;34m\u001b[0m\u001b[0m\n",
      "\u001b[0;32m~/anaconda3/envs/cive_env/lib/python3.11/site-packages/sklearn/base.py\u001b[0m in \u001b[0;36m?\u001b[0;34m(self, X, y, reset, validate_separately, **check_params)\u001b[0m\n\u001b[1;32m    561\u001b[0m \u001b[0;34m\u001b[0m\u001b[0m\n\u001b[1;32m    562\u001b[0m         \u001b[0;32mif\u001b[0m \u001b[0mno_val_X\u001b[0m \u001b[0;32mand\u001b[0m \u001b[0mno_val_y\u001b[0m\u001b[0;34m:\u001b[0m\u001b[0;34m\u001b[0m\u001b[0;34m\u001b[0m\u001b[0m\n\u001b[1;32m    563\u001b[0m             \u001b[0;32mraise\u001b[0m \u001b[0mValueError\u001b[0m\u001b[0;34m(\u001b[0m\u001b[0;34m\"Validation should be done on X, y or both.\"\u001b[0m\u001b[0;34m)\u001b[0m\u001b[0;34m\u001b[0m\u001b[0;34m\u001b[0m\u001b[0m\n\u001b[1;32m    564\u001b[0m         \u001b[0;32melif\u001b[0m \u001b[0;32mnot\u001b[0m \u001b[0mno_val_X\u001b[0m \u001b[0;32mand\u001b[0m \u001b[0mno_val_y\u001b[0m\u001b[0;34m:\u001b[0m\u001b[0;34m\u001b[0m\u001b[0;34m\u001b[0m\u001b[0m\n\u001b[0;32m--> 565\u001b[0;31m             \u001b[0mX\u001b[0m \u001b[0;34m=\u001b[0m \u001b[0mcheck_array\u001b[0m\u001b[0;34m(\u001b[0m\u001b[0mX\u001b[0m\u001b[0;34m,\u001b[0m \u001b[0minput_name\u001b[0m\u001b[0;34m=\u001b[0m\u001b[0;34m\"X\"\u001b[0m\u001b[0;34m,\u001b[0m \u001b[0;34m**\u001b[0m\u001b[0mcheck_params\u001b[0m\u001b[0;34m)\u001b[0m\u001b[0;34m\u001b[0m\u001b[0;34m\u001b[0m\u001b[0m\n\u001b[0m\u001b[1;32m    566\u001b[0m             \u001b[0mout\u001b[0m \u001b[0;34m=\u001b[0m \u001b[0mX\u001b[0m\u001b[0;34m\u001b[0m\u001b[0;34m\u001b[0m\u001b[0m\n\u001b[1;32m    567\u001b[0m         \u001b[0;32melif\u001b[0m \u001b[0mno_val_X\u001b[0m \u001b[0;32mand\u001b[0m \u001b[0;32mnot\u001b[0m \u001b[0mno_val_y\u001b[0m\u001b[0;34m:\u001b[0m\u001b[0;34m\u001b[0m\u001b[0;34m\u001b[0m\u001b[0m\n\u001b[1;32m    568\u001b[0m             \u001b[0my\u001b[0m \u001b[0;34m=\u001b[0m \u001b[0m_check_y\u001b[0m\u001b[0;34m(\u001b[0m\u001b[0my\u001b[0m\u001b[0;34m,\u001b[0m \u001b[0;34m**\u001b[0m\u001b[0mcheck_params\u001b[0m\u001b[0;34m)\u001b[0m\u001b[0;34m\u001b[0m\u001b[0;34m\u001b[0m\u001b[0m\n",
      "\u001b[0;32m~/anaconda3/envs/cive_env/lib/python3.11/site-packages/sklearn/utils/validation.py\u001b[0m in \u001b[0;36m?\u001b[0;34m(array, accept_sparse, accept_large_sparse, dtype, order, copy, force_all_finite, ensure_2d, allow_nd, ensure_min_samples, ensure_min_features, estimator, input_name)\u001b[0m\n\u001b[1;32m    876\u001b[0m                         )\n\u001b[1;32m    877\u001b[0m                     \u001b[0marray\u001b[0m \u001b[0;34m=\u001b[0m \u001b[0mxp\u001b[0m\u001b[0;34m.\u001b[0m\u001b[0mastype\u001b[0m\u001b[0;34m(\u001b[0m\u001b[0marray\u001b[0m\u001b[0;34m,\u001b[0m \u001b[0mdtype\u001b[0m\u001b[0;34m,\u001b[0m \u001b[0mcopy\u001b[0m\u001b[0;34m=\u001b[0m\u001b[0;32mFalse\u001b[0m\u001b[0;34m)\u001b[0m\u001b[0;34m\u001b[0m\u001b[0;34m\u001b[0m\u001b[0m\n\u001b[1;32m    878\u001b[0m                 \u001b[0;32melse\u001b[0m\u001b[0;34m:\u001b[0m\u001b[0;34m\u001b[0m\u001b[0;34m\u001b[0m\u001b[0m\n\u001b[1;32m    879\u001b[0m                     \u001b[0marray\u001b[0m \u001b[0;34m=\u001b[0m \u001b[0m_asarray_with_order\u001b[0m\u001b[0;34m(\u001b[0m\u001b[0marray\u001b[0m\u001b[0;34m,\u001b[0m \u001b[0morder\u001b[0m\u001b[0;34m=\u001b[0m\u001b[0morder\u001b[0m\u001b[0;34m,\u001b[0m \u001b[0mdtype\u001b[0m\u001b[0;34m=\u001b[0m\u001b[0mdtype\u001b[0m\u001b[0;34m,\u001b[0m \u001b[0mxp\u001b[0m\u001b[0;34m=\u001b[0m\u001b[0mxp\u001b[0m\u001b[0;34m)\u001b[0m\u001b[0;34m\u001b[0m\u001b[0;34m\u001b[0m\u001b[0m\n\u001b[0;32m--> 880\u001b[0;31m             \u001b[0;32mexcept\u001b[0m \u001b[0mComplexWarning\u001b[0m \u001b[0;32mas\u001b[0m \u001b[0mcomplex_warning\u001b[0m\u001b[0;34m:\u001b[0m\u001b[0;34m\u001b[0m\u001b[0;34m\u001b[0m\u001b[0m\n\u001b[0m\u001b[1;32m    881\u001b[0m                 raise ValueError(\n\u001b[1;32m    882\u001b[0m                     \u001b[0;34m\"Complex data not supported\\n{}\\n\"\u001b[0m\u001b[0;34m.\u001b[0m\u001b[0mformat\u001b[0m\u001b[0;34m(\u001b[0m\u001b[0marray\u001b[0m\u001b[0;34m)\u001b[0m\u001b[0;34m\u001b[0m\u001b[0;34m\u001b[0m\u001b[0m\n\u001b[1;32m    883\u001b[0m                 ) from complex_warning\n",
      "\u001b[0;32m~/anaconda3/envs/cive_env/lib/python3.11/site-packages/sklearn/utils/_array_api.py\u001b[0m in \u001b[0;36m?\u001b[0;34m(array, dtype, order, copy, xp)\u001b[0m\n\u001b[1;32m    181\u001b[0m     \u001b[0;32mif\u001b[0m \u001b[0mxp\u001b[0m \u001b[0;32mis\u001b[0m \u001b[0;32mNone\u001b[0m\u001b[0;34m:\u001b[0m\u001b[0;34m\u001b[0m\u001b[0;34m\u001b[0m\u001b[0m\n\u001b[1;32m    182\u001b[0m         \u001b[0mxp\u001b[0m\u001b[0;34m,\u001b[0m \u001b[0m_\u001b[0m \u001b[0;34m=\u001b[0m \u001b[0mget_namespace\u001b[0m\u001b[0;34m(\u001b[0m\u001b[0marray\u001b[0m\u001b[0;34m)\u001b[0m\u001b[0;34m\u001b[0m\u001b[0;34m\u001b[0m\u001b[0m\n\u001b[1;32m    183\u001b[0m     \u001b[0;32mif\u001b[0m \u001b[0mxp\u001b[0m\u001b[0;34m.\u001b[0m\u001b[0m__name__\u001b[0m \u001b[0;32min\u001b[0m \u001b[0;34m{\u001b[0m\u001b[0;34m\"numpy\"\u001b[0m\u001b[0;34m,\u001b[0m \u001b[0;34m\"numpy.array_api\"\u001b[0m\u001b[0;34m}\u001b[0m\u001b[0;34m:\u001b[0m\u001b[0;34m\u001b[0m\u001b[0;34m\u001b[0m\u001b[0m\n\u001b[1;32m    184\u001b[0m         \u001b[0;31m# Use NumPy API to support order\u001b[0m\u001b[0;34m\u001b[0m\u001b[0;34m\u001b[0m\u001b[0m\n\u001b[0;32m--> 185\u001b[0;31m         \u001b[0marray\u001b[0m \u001b[0;34m=\u001b[0m \u001b[0mnumpy\u001b[0m\u001b[0;34m.\u001b[0m\u001b[0masarray\u001b[0m\u001b[0;34m(\u001b[0m\u001b[0marray\u001b[0m\u001b[0;34m,\u001b[0m \u001b[0morder\u001b[0m\u001b[0;34m=\u001b[0m\u001b[0morder\u001b[0m\u001b[0;34m,\u001b[0m \u001b[0mdtype\u001b[0m\u001b[0;34m=\u001b[0m\u001b[0mdtype\u001b[0m\u001b[0;34m)\u001b[0m\u001b[0;34m\u001b[0m\u001b[0;34m\u001b[0m\u001b[0m\n\u001b[0m\u001b[1;32m    186\u001b[0m         \u001b[0;32mreturn\u001b[0m \u001b[0mxp\u001b[0m\u001b[0;34m.\u001b[0m\u001b[0masarray\u001b[0m\u001b[0;34m(\u001b[0m\u001b[0marray\u001b[0m\u001b[0;34m,\u001b[0m \u001b[0mcopy\u001b[0m\u001b[0;34m=\u001b[0m\u001b[0mcopy\u001b[0m\u001b[0;34m)\u001b[0m\u001b[0;34m\u001b[0m\u001b[0;34m\u001b[0m\u001b[0m\n\u001b[1;32m    187\u001b[0m     \u001b[0;32melse\u001b[0m\u001b[0;34m:\u001b[0m\u001b[0;34m\u001b[0m\u001b[0;34m\u001b[0m\u001b[0m\n\u001b[1;32m    188\u001b[0m         \u001b[0;32mreturn\u001b[0m \u001b[0mxp\u001b[0m\u001b[0;34m.\u001b[0m\u001b[0masarray\u001b[0m\u001b[0;34m(\u001b[0m\u001b[0marray\u001b[0m\u001b[0;34m,\u001b[0m \u001b[0mdtype\u001b[0m\u001b[0;34m=\u001b[0m\u001b[0mdtype\u001b[0m\u001b[0;34m,\u001b[0m \u001b[0mcopy\u001b[0m\u001b[0;34m=\u001b[0m\u001b[0mcopy\u001b[0m\u001b[0;34m)\u001b[0m\u001b[0;34m\u001b[0m\u001b[0;34m\u001b[0m\u001b[0m\n",
      "\u001b[0;32m~/anaconda3/envs/cive_env/lib/python3.11/site-packages/pandas/core/generic.py\u001b[0m in \u001b[0;36m?\u001b[0;34m(self, dtype)\u001b[0m\n\u001b[1;32m   2082\u001b[0m     \u001b[0;32mdef\u001b[0m \u001b[0m__array__\u001b[0m\u001b[0;34m(\u001b[0m\u001b[0mself\u001b[0m\u001b[0;34m,\u001b[0m \u001b[0mdtype\u001b[0m\u001b[0;34m:\u001b[0m \u001b[0mnpt\u001b[0m\u001b[0;34m.\u001b[0m\u001b[0mDTypeLike\u001b[0m \u001b[0;34m|\u001b[0m \u001b[0;32mNone\u001b[0m \u001b[0;34m=\u001b[0m \u001b[0;32mNone\u001b[0m\u001b[0;34m)\u001b[0m \u001b[0;34m->\u001b[0m \u001b[0mnp\u001b[0m\u001b[0;34m.\u001b[0m\u001b[0mndarray\u001b[0m\u001b[0;34m:\u001b[0m\u001b[0;34m\u001b[0m\u001b[0;34m\u001b[0m\u001b[0m\n\u001b[1;32m   2083\u001b[0m         \u001b[0mvalues\u001b[0m \u001b[0;34m=\u001b[0m \u001b[0mself\u001b[0m\u001b[0;34m.\u001b[0m\u001b[0m_values\u001b[0m\u001b[0;34m\u001b[0m\u001b[0;34m\u001b[0m\u001b[0m\n\u001b[0;32m-> 2084\u001b[0;31m         \u001b[0marr\u001b[0m \u001b[0;34m=\u001b[0m \u001b[0mnp\u001b[0m\u001b[0;34m.\u001b[0m\u001b[0masarray\u001b[0m\u001b[0;34m(\u001b[0m\u001b[0mvalues\u001b[0m\u001b[0;34m,\u001b[0m \u001b[0mdtype\u001b[0m\u001b[0;34m=\u001b[0m\u001b[0mdtype\u001b[0m\u001b[0;34m)\u001b[0m\u001b[0;34m\u001b[0m\u001b[0;34m\u001b[0m\u001b[0m\n\u001b[0m\u001b[1;32m   2085\u001b[0m         if (\n\u001b[1;32m   2086\u001b[0m             \u001b[0mastype_is_view\u001b[0m\u001b[0;34m(\u001b[0m\u001b[0mvalues\u001b[0m\u001b[0;34m.\u001b[0m\u001b[0mdtype\u001b[0m\u001b[0;34m,\u001b[0m \u001b[0marr\u001b[0m\u001b[0;34m.\u001b[0m\u001b[0mdtype\u001b[0m\u001b[0;34m)\u001b[0m\u001b[0;34m\u001b[0m\u001b[0;34m\u001b[0m\u001b[0m\n\u001b[1;32m   2087\u001b[0m             \u001b[0;32mand\u001b[0m \u001b[0musing_copy_on_write\u001b[0m\u001b[0;34m(\u001b[0m\u001b[0;34m)\u001b[0m\u001b[0;34m\u001b[0m\u001b[0;34m\u001b[0m\u001b[0m\n",
      "\u001b[0;31mValueError\u001b[0m: could not convert string to float: 'WLTW'"
     ]
    }
   ],
   "source": [
    "from sklearn.preprocessing import MinMaxScaler\n",
    "scale=MinMaxScaler()\n",
    "scale=scale.fit(train)\n",
    "data=scale.transform(train)"
   ]
  },
  {
   "cell_type": "code",
   "execution_count": 26,
   "metadata": {
    "papermill": {
     "duration": 0.058738,
     "end_time": "2020-10-09T08:30:36.285790",
     "exception": false,
     "start_time": "2020-10-09T08:30:36.227052",
     "status": "completed"
    },
    "tags": []
   },
   "outputs": [],
   "source": [
    "def sss(w):\n",
    "    t1,t2=w.shape\n",
    "    a=[]\n",
    "    t={}\n",
    "    for i in range(t2):\n",
    "        for j in range(t1):\n",
    "                a.append(w[j][i])\n",
    "        ss=pd.Series(a)\n",
    "        t.update({i:ss})\n",
    "        a=[]\n",
    "    k=[]\n",
    "    for i,j in t.items():\n",
    "        k.append(j)\n",
    "    ww=pd.concat(k,axis=1)\n",
    "    n=len(ww.columns)\n",
    "    for i in range(n):\n",
    "         ww[n+i]=ww[i].shift(-1)\n",
    "    return ww\n",
    "    "
   ]
  },
  {
   "cell_type": "code",
   "execution_count": 17,
   "metadata": {
    "execution": {
     "iopub.execute_input": "2020-10-09T08:30:36.403899Z",
     "iopub.status.busy": "2020-10-09T08:30:36.401599Z",
     "iopub.status.idle": "2020-10-09T08:30:36.410124Z",
     "shell.execute_reply": "2020-10-09T08:30:36.409645Z"
    },
    "papermill": {
     "duration": 0.076492,
     "end_time": "2020-10-09T08:30:36.410226",
     "exception": false,
     "start_time": "2020-10-09T08:30:36.333734",
     "status": "completed"
    },
    "tags": []
   },
   "outputs": [],
   "source": [
    "w=sss(data)"
   ]
  },
  {
   "cell_type": "code",
   "execution_count": 18,
   "metadata": {
    "execution": {
     "iopub.execute_input": "2020-10-09T08:30:36.524864Z",
     "iopub.status.busy": "2020-10-09T08:30:36.521949Z",
     "iopub.status.idle": "2020-10-09T08:30:36.529955Z",
     "shell.execute_reply": "2020-10-09T08:30:36.529197Z"
    },
    "papermill": {
     "duration": 0.073488,
     "end_time": "2020-10-09T08:30:36.530098",
     "exception": false,
     "start_time": "2020-10-09T08:30:36.456610",
     "status": "completed"
    },
    "tags": []
   },
   "outputs": [
    {
     "data": {
      "text/html": [
       "<div>\n",
       "<style scoped>\n",
       "    .dataframe tbody tr th:only-of-type {\n",
       "        vertical-align: middle;\n",
       "    }\n",
       "\n",
       "    .dataframe tbody tr th {\n",
       "        vertical-align: top;\n",
       "    }\n",
       "\n",
       "    .dataframe thead th {\n",
       "        text-align: right;\n",
       "    }\n",
       "</style>\n",
       "<table border=\"1\" class=\"dataframe\">\n",
       "  <thead>\n",
       "    <tr style=\"text-align: right;\">\n",
       "      <th></th>\n",
       "      <th>0</th>\n",
       "      <th>1</th>\n",
       "      <th>2</th>\n",
       "      <th>3</th>\n",
       "      <th>4</th>\n",
       "      <th>5</th>\n",
       "      <th>6</th>\n",
       "      <th>7</th>\n",
       "      <th>8</th>\n",
       "      <th>9</th>\n",
       "    </tr>\n",
       "  </thead>\n",
       "  <tbody>\n",
       "    <tr>\n",
       "      <th>0</th>\n",
       "      <td>0.260118</td>\n",
       "      <td>0.257240</td>\n",
       "      <td>0.260236</td>\n",
       "      <td>0.261505</td>\n",
       "      <td>0.052048</td>\n",
       "      <td>0.260709</td>\n",
       "      <td>0.266992</td>\n",
       "      <td>0.263918</td>\n",
       "      <td>0.272294</td>\n",
       "      <td>0.065056</td>\n",
       "    </tr>\n",
       "    <tr>\n",
       "      <th>1</th>\n",
       "      <td>0.260709</td>\n",
       "      <td>0.266992</td>\n",
       "      <td>0.263918</td>\n",
       "      <td>0.272294</td>\n",
       "      <td>0.065056</td>\n",
       "      <td>0.268612</td>\n",
       "      <td>0.270168</td>\n",
       "      <td>0.274595</td>\n",
       "      <td>0.272294</td>\n",
       "      <td>0.065255</td>\n",
       "    </tr>\n",
       "    <tr>\n",
       "      <th>2</th>\n",
       "      <td>0.268612</td>\n",
       "      <td>0.270168</td>\n",
       "      <td>0.274595</td>\n",
       "      <td>0.272294</td>\n",
       "      <td>0.065255</td>\n",
       "      <td>0.271935</td>\n",
       "      <td>0.276817</td>\n",
       "      <td>0.277393</td>\n",
       "      <td>0.280954</td>\n",
       "      <td>0.081544</td>\n",
       "    </tr>\n",
       "    <tr>\n",
       "      <th>3</th>\n",
       "      <td>0.271935</td>\n",
       "      <td>0.276817</td>\n",
       "      <td>0.277393</td>\n",
       "      <td>0.280954</td>\n",
       "      <td>0.081544</td>\n",
       "      <td>0.279173</td>\n",
       "      <td>0.283614</td>\n",
       "      <td>0.285272</td>\n",
       "      <td>0.289028</td>\n",
       "      <td>0.062573</td>\n",
       "    </tr>\n",
       "    <tr>\n",
       "      <th>4</th>\n",
       "      <td>0.279173</td>\n",
       "      <td>0.283614</td>\n",
       "      <td>0.285272</td>\n",
       "      <td>0.289028</td>\n",
       "      <td>0.062573</td>\n",
       "      <td>0.285820</td>\n",
       "      <td>0.282432</td>\n",
       "      <td>0.286672</td>\n",
       "      <td>0.287193</td>\n",
       "      <td>0.044515</td>\n",
       "    </tr>\n",
       "    <tr>\n",
       "      <th>...</th>\n",
       "      <td>...</td>\n",
       "      <td>...</td>\n",
       "      <td>...</td>\n",
       "      <td>...</td>\n",
       "      <td>...</td>\n",
       "      <td>...</td>\n",
       "      <td>...</td>\n",
       "      <td>...</td>\n",
       "      <td>...</td>\n",
       "      <td>...</td>\n",
       "    </tr>\n",
       "    <tr>\n",
       "      <th>3015</th>\n",
       "      <td>0.975775</td>\n",
       "      <td>0.978945</td>\n",
       "      <td>0.973785</td>\n",
       "      <td>0.980404</td>\n",
       "      <td>0.034139</td>\n",
       "      <td>0.985155</td>\n",
       "      <td>0.987663</td>\n",
       "      <td>0.986377</td>\n",
       "      <td>0.985468</td>\n",
       "      <td>0.025033</td>\n",
       "    </tr>\n",
       "    <tr>\n",
       "      <th>3016</th>\n",
       "      <td>0.985155</td>\n",
       "      <td>0.987663</td>\n",
       "      <td>0.986377</td>\n",
       "      <td>0.985468</td>\n",
       "      <td>0.025033</td>\n",
       "      <td>0.991802</td>\n",
       "      <td>0.992908</td>\n",
       "      <td>0.991163</td>\n",
       "      <td>0.993394</td>\n",
       "      <td>0.034644</td>\n",
       "    </tr>\n",
       "    <tr>\n",
       "      <th>3017</th>\n",
       "      <td>0.991802</td>\n",
       "      <td>0.992908</td>\n",
       "      <td>0.991163</td>\n",
       "      <td>0.993394</td>\n",
       "      <td>0.034644</td>\n",
       "      <td>0.999188</td>\n",
       "      <td>1.000000</td>\n",
       "      <td>0.997938</td>\n",
       "      <td>1.000000</td>\n",
       "      <td>0.057468</td>\n",
       "    </tr>\n",
       "    <tr>\n",
       "      <th>3018</th>\n",
       "      <td>0.999188</td>\n",
       "      <td>1.000000</td>\n",
       "      <td>0.997938</td>\n",
       "      <td>1.000000</td>\n",
       "      <td>0.057468</td>\n",
       "      <td>1.000000</td>\n",
       "      <td>0.998892</td>\n",
       "      <td>1.000000</td>\n",
       "      <td>0.993835</td>\n",
       "      <td>0.036058</td>\n",
       "    </tr>\n",
       "    <tr>\n",
       "      <th>3019</th>\n",
       "      <td>1.000000</td>\n",
       "      <td>0.998892</td>\n",
       "      <td>1.000000</td>\n",
       "      <td>0.993835</td>\n",
       "      <td>0.036058</td>\n",
       "      <td>NaN</td>\n",
       "      <td>NaN</td>\n",
       "      <td>NaN</td>\n",
       "      <td>NaN</td>\n",
       "      <td>NaN</td>\n",
       "    </tr>\n",
       "  </tbody>\n",
       "</table>\n",
       "<p>3020 rows × 10 columns</p>\n",
       "</div>"
      ],
      "text/plain": [
       "             0         1         2         3         4         5         6  \\\n",
       "0     0.260118  0.257240  0.260236  0.261505  0.052048  0.260709  0.266992   \n",
       "1     0.260709  0.266992  0.263918  0.272294  0.065056  0.268612  0.270168   \n",
       "2     0.268612  0.270168  0.274595  0.272294  0.065255  0.271935  0.276817   \n",
       "3     0.271935  0.276817  0.277393  0.280954  0.081544  0.279173  0.283614   \n",
       "4     0.279173  0.283614  0.285272  0.289028  0.062573  0.285820  0.282432   \n",
       "...        ...       ...       ...       ...       ...       ...       ...   \n",
       "3015  0.975775  0.978945  0.973785  0.980404  0.034139  0.985155  0.987663   \n",
       "3016  0.985155  0.987663  0.986377  0.985468  0.025033  0.991802  0.992908   \n",
       "3017  0.991802  0.992908  0.991163  0.993394  0.034644  0.999188  1.000000   \n",
       "3018  0.999188  1.000000  0.997938  1.000000  0.057468  1.000000  0.998892   \n",
       "3019  1.000000  0.998892  1.000000  0.993835  0.036058       NaN       NaN   \n",
       "\n",
       "             7         8         9  \n",
       "0     0.263918  0.272294  0.065056  \n",
       "1     0.274595  0.272294  0.065255  \n",
       "2     0.277393  0.280954  0.081544  \n",
       "3     0.285272  0.289028  0.062573  \n",
       "4     0.286672  0.287193  0.044515  \n",
       "...        ...       ...       ...  \n",
       "3015  0.986377  0.985468  0.025033  \n",
       "3016  0.991163  0.993394  0.034644  \n",
       "3017  0.997938  1.000000  0.057468  \n",
       "3018  1.000000  0.993835  0.036058  \n",
       "3019       NaN       NaN       NaN  \n",
       "\n",
       "[3020 rows x 10 columns]"
      ]
     },
     "execution_count": 18,
     "metadata": {},
     "output_type": "execute_result"
    }
   ],
   "source": [
    "w"
   ]
  },
  {
   "cell_type": "code",
   "execution_count": 19,
   "metadata": {
    "execution": {
     "iopub.execute_input": "2020-10-09T08:30:36.636395Z",
     "iopub.status.busy": "2020-10-09T08:30:36.635695Z",
     "iopub.status.idle": "2020-10-09T08:30:36.640976Z",
     "shell.execute_reply": "2020-10-09T08:30:36.641565Z"
    },
    "papermill": {
     "duration": 0.058267,
     "end_time": "2020-10-09T08:30:36.641719",
     "exception": false,
     "start_time": "2020-10-09T08:30:36.583452",
     "status": "completed"
    },
    "tags": []
   },
   "outputs": [],
   "source": [
    "w.fillna(method='ffill',inplace=True)"
   ]
  },
  {
   "cell_type": "code",
   "execution_count": 20,
   "metadata": {
    "execution": {
     "iopub.execute_input": "2020-10-09T08:30:36.738906Z",
     "iopub.status.busy": "2020-10-09T08:30:36.737830Z",
     "iopub.status.idle": "2020-10-09T08:30:36.744903Z",
     "shell.execute_reply": "2020-10-09T08:30:36.744242Z"
    },
    "papermill": {
     "duration": 0.056248,
     "end_time": "2020-10-09T08:30:36.745031",
     "exception": false,
     "start_time": "2020-10-09T08:30:36.688783",
     "status": "completed"
    },
    "tags": []
   },
   "outputs": [],
   "source": [
    "w.drop([6,7,8,9],axis=1,inplace=True)\n"
   ]
  },
  {
   "cell_type": "code",
   "execution_count": 21,
   "metadata": {
    "execution": {
     "iopub.execute_input": "2020-10-09T08:30:36.861067Z",
     "iopub.status.busy": "2020-10-09T08:30:36.859889Z",
     "iopub.status.idle": "2020-10-09T08:30:36.883406Z",
     "shell.execute_reply": "2020-10-09T08:30:36.881574Z"
    },
    "papermill": {
     "duration": 0.09192,
     "end_time": "2020-10-09T08:30:36.883582",
     "exception": false,
     "start_time": "2020-10-09T08:30:36.791662",
     "status": "completed"
    },
    "tags": []
   },
   "outputs": [
    {
     "data": {
      "text/html": [
       "<div>\n",
       "<style scoped>\n",
       "    .dataframe tbody tr th:only-of-type {\n",
       "        vertical-align: middle;\n",
       "    }\n",
       "\n",
       "    .dataframe tbody tr th {\n",
       "        vertical-align: top;\n",
       "    }\n",
       "\n",
       "    .dataframe thead th {\n",
       "        text-align: right;\n",
       "    }\n",
       "</style>\n",
       "<table border=\"1\" class=\"dataframe\">\n",
       "  <thead>\n",
       "    <tr style=\"text-align: right;\">\n",
       "      <th></th>\n",
       "      <th>0</th>\n",
       "      <th>1</th>\n",
       "      <th>2</th>\n",
       "      <th>3</th>\n",
       "      <th>4</th>\n",
       "      <th>5</th>\n",
       "    </tr>\n",
       "  </thead>\n",
       "  <tbody>\n",
       "    <tr>\n",
       "      <th>0</th>\n",
       "      <td>0.260118</td>\n",
       "      <td>0.257240</td>\n",
       "      <td>0.260236</td>\n",
       "      <td>0.261505</td>\n",
       "      <td>0.052048</td>\n",
       "      <td>0.260709</td>\n",
       "    </tr>\n",
       "    <tr>\n",
       "      <th>1</th>\n",
       "      <td>0.260709</td>\n",
       "      <td>0.266992</td>\n",
       "      <td>0.263918</td>\n",
       "      <td>0.272294</td>\n",
       "      <td>0.065056</td>\n",
       "      <td>0.268612</td>\n",
       "    </tr>\n",
       "    <tr>\n",
       "      <th>2</th>\n",
       "      <td>0.268612</td>\n",
       "      <td>0.270168</td>\n",
       "      <td>0.274595</td>\n",
       "      <td>0.272294</td>\n",
       "      <td>0.065255</td>\n",
       "      <td>0.271935</td>\n",
       "    </tr>\n",
       "    <tr>\n",
       "      <th>3</th>\n",
       "      <td>0.271935</td>\n",
       "      <td>0.276817</td>\n",
       "      <td>0.277393</td>\n",
       "      <td>0.280954</td>\n",
       "      <td>0.081544</td>\n",
       "      <td>0.279173</td>\n",
       "    </tr>\n",
       "    <tr>\n",
       "      <th>4</th>\n",
       "      <td>0.279173</td>\n",
       "      <td>0.283614</td>\n",
       "      <td>0.285272</td>\n",
       "      <td>0.289028</td>\n",
       "      <td>0.062573</td>\n",
       "      <td>0.285820</td>\n",
       "    </tr>\n",
       "    <tr>\n",
       "      <th>...</th>\n",
       "      <td>...</td>\n",
       "      <td>...</td>\n",
       "      <td>...</td>\n",
       "      <td>...</td>\n",
       "      <td>...</td>\n",
       "      <td>...</td>\n",
       "    </tr>\n",
       "    <tr>\n",
       "      <th>3015</th>\n",
       "      <td>0.975775</td>\n",
       "      <td>0.978945</td>\n",
       "      <td>0.973785</td>\n",
       "      <td>0.980404</td>\n",
       "      <td>0.034139</td>\n",
       "      <td>0.985155</td>\n",
       "    </tr>\n",
       "    <tr>\n",
       "      <th>3016</th>\n",
       "      <td>0.985155</td>\n",
       "      <td>0.987663</td>\n",
       "      <td>0.986377</td>\n",
       "      <td>0.985468</td>\n",
       "      <td>0.025033</td>\n",
       "      <td>0.991802</td>\n",
       "    </tr>\n",
       "    <tr>\n",
       "      <th>3017</th>\n",
       "      <td>0.991802</td>\n",
       "      <td>0.992908</td>\n",
       "      <td>0.991163</td>\n",
       "      <td>0.993394</td>\n",
       "      <td>0.034644</td>\n",
       "      <td>0.999188</td>\n",
       "    </tr>\n",
       "    <tr>\n",
       "      <th>3018</th>\n",
       "      <td>0.999188</td>\n",
       "      <td>1.000000</td>\n",
       "      <td>0.997938</td>\n",
       "      <td>1.000000</td>\n",
       "      <td>0.057468</td>\n",
       "      <td>1.000000</td>\n",
       "    </tr>\n",
       "    <tr>\n",
       "      <th>3019</th>\n",
       "      <td>1.000000</td>\n",
       "      <td>0.998892</td>\n",
       "      <td>1.000000</td>\n",
       "      <td>0.993835</td>\n",
       "      <td>0.036058</td>\n",
       "      <td>1.000000</td>\n",
       "    </tr>\n",
       "  </tbody>\n",
       "</table>\n",
       "<p>3020 rows × 6 columns</p>\n",
       "</div>"
      ],
      "text/plain": [
       "             0         1         2         3         4         5\n",
       "0     0.260118  0.257240  0.260236  0.261505  0.052048  0.260709\n",
       "1     0.260709  0.266992  0.263918  0.272294  0.065056  0.268612\n",
       "2     0.268612  0.270168  0.274595  0.272294  0.065255  0.271935\n",
       "3     0.271935  0.276817  0.277393  0.280954  0.081544  0.279173\n",
       "4     0.279173  0.283614  0.285272  0.289028  0.062573  0.285820\n",
       "...        ...       ...       ...       ...       ...       ...\n",
       "3015  0.975775  0.978945  0.973785  0.980404  0.034139  0.985155\n",
       "3016  0.985155  0.987663  0.986377  0.985468  0.025033  0.991802\n",
       "3017  0.991802  0.992908  0.991163  0.993394  0.034644  0.999188\n",
       "3018  0.999188  1.000000  0.997938  1.000000  0.057468  1.000000\n",
       "3019  1.000000  0.998892  1.000000  0.993835  0.036058  1.000000\n",
       "\n",
       "[3020 rows x 6 columns]"
      ]
     },
     "execution_count": 21,
     "metadata": {},
     "output_type": "execute_result"
    }
   ],
   "source": [
    "w"
   ]
  },
  {
   "cell_type": "code",
   "execution_count": 22,
   "metadata": {
    "execution": {
     "iopub.execute_input": "2020-10-09T08:30:37.058245Z",
     "iopub.status.busy": "2020-10-09T08:30:37.057277Z",
     "iopub.status.idle": "2020-10-09T08:30:37.080897Z",
     "shell.execute_reply": "2020-10-09T08:30:37.081727Z"
    },
    "papermill": {
     "duration": 0.110047,
     "end_time": "2020-10-09T08:30:37.081907",
     "exception": false,
     "start_time": "2020-10-09T08:30:36.971860",
     "status": "completed"
    },
    "tags": []
   },
   "outputs": [
    {
     "name": "stdout",
     "output_type": "stream",
     "text": [
      "<class 'pandas.core.frame.DataFrame'>\n",
      "RangeIndex: 3020 entries, 0 to 3019\n",
      "Data columns (total 6 columns):\n",
      " #   Column  Non-Null Count  Dtype  \n",
      "---  ------  --------------  -----  \n",
      " 0   0       3020 non-null   float64\n",
      " 1   1       3020 non-null   float64\n",
      " 2   2       3020 non-null   float64\n",
      " 3   3       3020 non-null   float64\n",
      " 4   4       3020 non-null   float64\n",
      " 5   5       3020 non-null   float64\n",
      "dtypes: float64(6)\n",
      "memory usage: 141.7 KB\n"
     ]
    }
   ],
   "source": [
    "w.info()"
   ]
  },
  {
   "cell_type": "code",
   "execution_count": 23,
   "metadata": {
    "execution": {
     "iopub.execute_input": "2020-10-09T08:30:37.252943Z",
     "iopub.status.busy": "2020-10-09T08:30:37.251389Z",
     "iopub.status.idle": "2020-10-09T08:30:37.253945Z",
     "shell.execute_reply": "2020-10-09T08:30:37.254782Z"
    },
    "papermill": {
     "duration": 0.085972,
     "end_time": "2020-10-09T08:30:37.254954",
     "exception": false,
     "start_time": "2020-10-09T08:30:37.168982",
     "status": "completed"
    },
    "tags": []
   },
   "outputs": [],
   "source": [
    "www=w.values"
   ]
  },
  {
   "cell_type": "code",
   "execution_count": 24,
   "metadata": {
    "execution": {
     "iopub.execute_input": "2020-10-09T08:30:37.401282Z",
     "iopub.status.busy": "2020-10-09T08:30:37.399771Z",
     "iopub.status.idle": "2020-10-09T08:30:37.403271Z",
     "shell.execute_reply": "2020-10-09T08:30:37.403966Z"
    },
    "papermill": {
     "duration": 0.078588,
     "end_time": "2020-10-09T08:30:37.404139",
     "exception": false,
     "start_time": "2020-10-09T08:30:37.325551",
     "status": "completed"
    },
    "tags": []
   },
   "outputs": [],
   "source": [
    "xtrain,xtest,ytrain,ytest=www[:2015,0:5],www[2015:,0:5],www[:2015,-1],www[2015:,-1]"
   ]
  },
  {
   "cell_type": "code",
   "execution_count": 25,
   "metadata": {
    "execution": {
     "iopub.execute_input": "2020-10-09T08:30:37.566231Z",
     "iopub.status.busy": "2020-10-09T08:30:37.565217Z",
     "iopub.status.idle": "2020-10-09T08:30:37.567844Z",
     "shell.execute_reply": "2020-10-09T08:30:37.567103Z"
    },
    "papermill": {
     "duration": 0.078658,
     "end_time": "2020-10-09T08:30:37.567967",
     "exception": false,
     "start_time": "2020-10-09T08:30:37.489309",
     "status": "completed"
    },
    "tags": []
   },
   "outputs": [],
   "source": [
    "xtes=xtest"
   ]
  },
  {
   "cell_type": "code",
   "execution_count": 26,
   "metadata": {
    "execution": {
     "iopub.execute_input": "2020-10-09T08:30:37.713036Z",
     "iopub.status.busy": "2020-10-09T08:30:37.710730Z",
     "iopub.status.idle": "2020-10-09T08:30:37.715057Z",
     "shell.execute_reply": "2020-10-09T08:30:37.715673Z"
    },
    "papermill": {
     "duration": 0.082974,
     "end_time": "2020-10-09T08:30:37.715806",
     "exception": false,
     "start_time": "2020-10-09T08:30:37.632832",
     "status": "completed"
    },
    "tags": []
   },
   "outputs": [
    {
     "data": {
      "text/plain": [
       "array([[0.49881832, 0.49505024, 0.49094256, 0.48785321, 0.0748028 ],\n",
       "       [0.48833087, 0.48714539, 0.49366716, 0.48998165, 0.04937134],\n",
       "       [0.48840473, 0.49150414, 0.49307806, 0.49152294, 0.06280644],\n",
       "       ...,\n",
       "       [0.99180207, 0.9929078 , 0.99116348, 0.9933945 , 0.03464359],\n",
       "       [0.99918759, 1.        , 0.99793814, 1.        , 0.05746773],\n",
       "       [1.        , 0.99889184, 1.        , 0.99383486, 0.03605802]])"
      ]
     },
     "execution_count": 26,
     "metadata": {},
     "output_type": "execute_result"
    }
   ],
   "source": [
    "xtes"
   ]
  },
  {
   "cell_type": "code",
   "execution_count": 27,
   "metadata": {
    "execution": {
     "iopub.execute_input": "2020-10-09T08:30:37.907837Z",
     "iopub.status.busy": "2020-10-09T08:30:37.906260Z",
     "iopub.status.idle": "2020-10-09T08:30:37.908676Z",
     "shell.execute_reply": "2020-10-09T08:30:37.907030Z"
    },
    "papermill": {
     "duration": 0.142524,
     "end_time": "2020-10-09T08:30:37.908817",
     "exception": false,
     "start_time": "2020-10-09T08:30:37.766293",
     "status": "completed"
    },
    "tags": []
   },
   "outputs": [],
   "source": [
    "xtrain = xtrain.reshape(xtrain.shape[0], xtrain.shape[1], 1)\n",
    "xtest = xtest.reshape(xtest.shape[0], xtest.shape[1], 1)"
   ]
  },
  {
   "cell_type": "code",
   "execution_count": 28,
   "metadata": {
    "execution": {
     "iopub.execute_input": "2020-10-09T08:30:38.069168Z",
     "iopub.status.busy": "2020-10-09T08:30:38.068164Z",
     "iopub.status.idle": "2020-10-09T08:30:42.773805Z",
     "shell.execute_reply": "2020-10-09T08:30:42.772704Z"
    },
    "papermill": {
     "duration": 4.797398,
     "end_time": "2020-10-09T08:30:42.773930",
     "exception": false,
     "start_time": "2020-10-09T08:30:37.976532",
     "status": "completed"
    },
    "tags": []
   },
   "outputs": [],
   "source": [
    "from tensorflow.keras.models import Sequential\n",
    "from tensorflow.keras.layers import Dense\n",
    "from tensorflow.keras.layers import LSTM,Dropout\n",
    "from keras.layers import Bidirectional"
   ]
  },
  {
   "cell_type": "code",
   "execution_count": 29,
   "metadata": {
    "execution": {
     "iopub.execute_input": "2020-10-09T08:30:42.880556Z",
     "iopub.status.busy": "2020-10-09T08:30:42.879862Z",
     "iopub.status.idle": "2020-10-09T08:30:45.744993Z",
     "shell.execute_reply": "2020-10-09T08:30:45.744429Z"
    },
    "papermill": {
     "duration": 2.920699,
     "end_time": "2020-10-09T08:30:45.745125",
     "exception": false,
     "start_time": "2020-10-09T08:30:42.824426",
     "status": "completed"
    },
    "tags": []
   },
   "outputs": [],
   "source": [
    "model=Sequential()\n",
    "model.add(Bidirectional(LSTM(50,activation=\"relu\",return_sequences=True,input_shape=(xtrain.shape[1],xtrain.shape[2]))))\n",
    "model.add(LSTM(50,activation=\"relu\"))\n",
    "model.add(Dense(1))\n",
    "model.compile(optimizer='adam', loss='mse')"
   ]
  },
  {
   "cell_type": "code",
   "execution_count": 30,
   "metadata": {
    "execution": {
     "iopub.execute_input": "2020-10-09T08:30:45.849182Z",
     "iopub.status.busy": "2020-10-09T08:30:45.848365Z",
     "iopub.status.idle": "2020-10-09T08:32:29.693729Z",
     "shell.execute_reply": "2020-10-09T08:32:29.694268Z"
    },
    "papermill": {
     "duration": 103.90011,
     "end_time": "2020-10-09T08:32:29.694441",
     "exception": false,
     "start_time": "2020-10-09T08:30:45.794331",
     "status": "completed"
    },
    "tags": []
   },
   "outputs": [
    {
     "name": "stdout",
     "output_type": "stream",
     "text": [
      "Epoch 1/50\n",
      "63/63 - 2s - loss: 0.0413 - val_loss: 0.0040\n",
      "Epoch 2/50\n",
      "63/63 - 2s - loss: 0.0015 - val_loss: 1.5270e-04\n",
      "Epoch 3/50\n",
      "63/63 - 2s - loss: 1.8234e-04 - val_loss: 1.2900e-04\n",
      "Epoch 4/50\n",
      "63/63 - 2s - loss: 1.4642e-04 - val_loss: 1.0411e-04\n",
      "Epoch 5/50\n",
      "63/63 - 2s - loss: 1.4358e-04 - val_loss: 1.1410e-04\n",
      "Epoch 6/50\n",
      "63/63 - 3s - loss: 1.1460e-04 - val_loss: 9.5196e-05\n",
      "Epoch 7/50\n",
      "63/63 - 2s - loss: 1.0948e-04 - val_loss: 1.0726e-04\n",
      "Epoch 8/50\n",
      "63/63 - 2s - loss: 9.2553e-05 - val_loss: 8.4806e-05\n",
      "Epoch 9/50\n",
      "63/63 - 2s - loss: 9.1431e-05 - val_loss: 1.1435e-04\n",
      "Epoch 10/50\n",
      "63/63 - 2s - loss: 8.5612e-05 - val_loss: 8.1576e-05\n",
      "Epoch 11/50\n",
      "63/63 - 2s - loss: 8.2235e-05 - val_loss: 7.7044e-05\n",
      "Epoch 12/50\n",
      "63/63 - 2s - loss: 8.7482e-05 - val_loss: 1.1123e-04\n",
      "Epoch 13/50\n",
      "63/63 - 2s - loss: 9.6915e-05 - val_loss: 9.4107e-05\n",
      "Epoch 14/50\n",
      "63/63 - 2s - loss: 1.0116e-04 - val_loss: 1.0047e-04\n",
      "Epoch 15/50\n",
      "63/63 - 2s - loss: 8.8467e-05 - val_loss: 1.4069e-04\n",
      "Epoch 16/50\n",
      "63/63 - 2s - loss: 8.6188e-05 - val_loss: 1.1091e-04\n",
      "Epoch 17/50\n",
      "63/63 - 2s - loss: 8.4716e-05 - val_loss: 9.6875e-05\n",
      "Epoch 18/50\n",
      "63/63 - 2s - loss: 8.7382e-05 - val_loss: 1.1334e-04\n",
      "Epoch 19/50\n",
      "63/63 - 2s - loss: 8.0975e-05 - val_loss: 8.6551e-05\n",
      "Epoch 20/50\n",
      "63/63 - 2s - loss: 8.2036e-05 - val_loss: 1.0324e-04\n",
      "Epoch 21/50\n",
      "63/63 - 2s - loss: 7.8290e-05 - val_loss: 9.0240e-05\n",
      "Epoch 22/50\n",
      "63/63 - 3s - loss: 9.1237e-05 - val_loss: 8.0330e-05\n",
      "Epoch 23/50\n",
      "63/63 - 2s - loss: 8.4850e-05 - val_loss: 7.8048e-05\n",
      "Epoch 24/50\n",
      "63/63 - 2s - loss: 7.6284e-05 - val_loss: 7.7277e-05\n",
      "Epoch 25/50\n",
      "63/63 - 2s - loss: 9.0668e-05 - val_loss: 1.0186e-04\n",
      "Epoch 26/50\n",
      "63/63 - 2s - loss: 8.1330e-05 - val_loss: 8.1145e-05\n",
      "Epoch 27/50\n",
      "63/63 - 2s - loss: 8.9360e-05 - val_loss: 7.6356e-05\n",
      "Epoch 28/50\n",
      "63/63 - 2s - loss: 8.1525e-05 - val_loss: 8.3974e-05\n",
      "Epoch 29/50\n",
      "63/63 - 2s - loss: 7.9916e-05 - val_loss: 1.1566e-04\n",
      "Epoch 30/50\n",
      "63/63 - 2s - loss: 8.0536e-05 - val_loss: 7.8287e-05\n",
      "Epoch 31/50\n",
      "63/63 - 2s - loss: 7.9010e-05 - val_loss: 9.6598e-05\n",
      "Epoch 32/50\n",
      "63/63 - 2s - loss: 8.4184e-05 - val_loss: 8.2156e-05\n",
      "Epoch 33/50\n",
      "63/63 - 2s - loss: 9.1186e-05 - val_loss: 8.0640e-05\n",
      "Epoch 34/50\n",
      "63/63 - 2s - loss: 8.4054e-05 - val_loss: 8.4618e-05\n",
      "Epoch 35/50\n",
      "63/63 - 2s - loss: 8.8445e-05 - val_loss: 1.0248e-04\n",
      "Epoch 36/50\n",
      "63/63 - 2s - loss: 8.2410e-05 - val_loss: 7.7798e-05\n",
      "Epoch 37/50\n",
      "63/63 - 2s - loss: 7.8930e-05 - val_loss: 9.5699e-05\n",
      "Epoch 38/50\n",
      "63/63 - 2s - loss: 8.0510e-05 - val_loss: 8.9640e-05\n",
      "Epoch 39/50\n",
      "63/63 - 3s - loss: 1.0335e-04 - val_loss: 1.3083e-04\n",
      "Epoch 40/50\n",
      "63/63 - 2s - loss: 7.8051e-05 - val_loss: 8.2525e-05\n",
      "Epoch 41/50\n",
      "63/63 - 2s - loss: 7.5795e-05 - val_loss: 7.9271e-05\n",
      "Epoch 42/50\n",
      "63/63 - 2s - loss: 8.5967e-05 - val_loss: 1.0973e-04\n",
      "Epoch 43/50\n",
      "63/63 - 2s - loss: 7.5357e-05 - val_loss: 8.3191e-05\n",
      "Epoch 44/50\n",
      "63/63 - 2s - loss: 7.9984e-05 - val_loss: 1.1863e-04\n",
      "Epoch 45/50\n",
      "63/63 - 2s - loss: 7.5424e-05 - val_loss: 8.2795e-05\n",
      "Epoch 46/50\n",
      "63/63 - 2s - loss: 7.6934e-05 - val_loss: 7.9372e-05\n",
      "Epoch 47/50\n",
      "63/63 - 2s - loss: 7.7113e-05 - val_loss: 1.0707e-04\n",
      "Epoch 48/50\n",
      "63/63 - 3s - loss: 7.9628e-05 - val_loss: 9.5656e-05\n",
      "Epoch 49/50\n",
      "63/63 - 2s - loss: 7.9398e-05 - val_loss: 1.3542e-04\n",
      "Epoch 50/50\n",
      "63/63 - 2s - loss: 8.5799e-05 - val_loss: 8.6459e-05\n"
     ]
    },
    {
     "data": {
      "text/plain": [
       "<tensorflow.python.keras.callbacks.History at 0x7f4a103b0610>"
      ]
     },
     "execution_count": 30,
     "metadata": {},
     "output_type": "execute_result"
    }
   ],
   "source": [
    "model.fit(xtrain,ytrain,validation_data=(xtest,ytest),epochs=50,batch_size=32,verbose=2)"
   ]
  },
  {
   "cell_type": "code",
   "execution_count": 31,
   "metadata": {
    "execution": {
     "iopub.execute_input": "2020-10-09T08:32:29.883485Z",
     "iopub.status.busy": "2020-10-09T08:32:29.882496Z",
     "iopub.status.idle": "2020-10-09T08:32:30.437387Z",
     "shell.execute_reply": "2020-10-09T08:32:30.436224Z"
    },
    "papermill": {
     "duration": 0.651475,
     "end_time": "2020-10-09T08:32:30.437524",
     "exception": false,
     "start_time": "2020-10-09T08:32:29.786049",
     "status": "completed"
    },
    "tags": []
   },
   "outputs": [],
   "source": [
    "y_pred=model.predict(xtest)"
   ]
  },
  {
   "cell_type": "code",
   "execution_count": 32,
   "metadata": {
    "execution": {
     "iopub.execute_input": "2020-10-09T08:32:30.610650Z",
     "iopub.status.busy": "2020-10-09T08:32:30.609513Z",
     "iopub.status.idle": "2020-10-09T08:32:30.615238Z",
     "shell.execute_reply": "2020-10-09T08:32:30.614605Z"
    },
    "papermill": {
     "duration": 0.093691,
     "end_time": "2020-10-09T08:32:30.615352",
     "exception": false,
     "start_time": "2020-10-09T08:32:30.521661",
     "status": "completed"
    },
    "tags": []
   },
   "outputs": [
    {
     "data": {
      "text/plain": [
       "array([[0.49490774],\n",
       "       [0.49019116],\n",
       "       [0.4918716 ],\n",
       "       [0.4937003 ],\n",
       "       [0.49809003]], dtype=float32)"
      ]
     },
     "execution_count": 32,
     "metadata": {},
     "output_type": "execute_result"
    }
   ],
   "source": [
    "y_pred[:5]"
   ]
  },
  {
   "cell_type": "code",
   "execution_count": 33,
   "metadata": {
    "execution": {
     "iopub.execute_input": "2020-10-09T08:32:30.806095Z",
     "iopub.status.busy": "2020-10-09T08:32:30.804436Z",
     "iopub.status.idle": "2020-10-09T08:32:30.809011Z",
     "shell.execute_reply": "2020-10-09T08:32:30.809909Z"
    },
    "papermill": {
     "duration": 0.101627,
     "end_time": "2020-10-09T08:32:30.810039",
     "exception": false,
     "start_time": "2020-10-09T08:32:30.708412",
     "status": "completed"
    },
    "tags": []
   },
   "outputs": [],
   "source": [
    "from numpy import concatenate"
   ]
  },
  {
   "cell_type": "code",
   "execution_count": 34,
   "metadata": {
    "execution": {
     "iopub.execute_input": "2020-10-09T08:32:30.993509Z",
     "iopub.status.busy": "2020-10-09T08:32:30.992678Z",
     "iopub.status.idle": "2020-10-09T08:32:30.996696Z",
     "shell.execute_reply": "2020-10-09T08:32:30.995905Z"
    },
    "papermill": {
     "duration": 0.094282,
     "end_time": "2020-10-09T08:32:30.996850",
     "exception": false,
     "start_time": "2020-10-09T08:32:30.902568",
     "status": "completed"
    },
    "tags": []
   },
   "outputs": [],
   "source": [
    "y_pred= concatenate((y_pred,xtes[:, 1:]), axis=1)"
   ]
  },
  {
   "cell_type": "code",
   "execution_count": 35,
   "metadata": {
    "execution": {
     "iopub.execute_input": "2020-10-09T08:32:31.175510Z",
     "iopub.status.busy": "2020-10-09T08:32:31.174580Z",
     "iopub.status.idle": "2020-10-09T08:32:31.178451Z",
     "shell.execute_reply": "2020-10-09T08:32:31.178984Z"
    },
    "papermill": {
     "duration": 0.097216,
     "end_time": "2020-10-09T08:32:31.179114",
     "exception": false,
     "start_time": "2020-10-09T08:32:31.081898",
     "status": "completed"
    },
    "tags": []
   },
   "outputs": [
    {
     "data": {
      "text/plain": [
       "array([[0.49881832, 0.49505024, 0.49094256, 0.48785321, 0.0748028 ],\n",
       "       [0.48833087, 0.48714539, 0.49366716, 0.48998165, 0.04937134],\n",
       "       [0.48840473, 0.49150414, 0.49307806, 0.49152294, 0.06280644],\n",
       "       [0.49194978, 0.49135638, 0.49315169, 0.49570642, 0.0634702 ],\n",
       "       [0.49305761, 0.49726655, 0.49764359, 0.50157798, 0.07748085]])"
      ]
     },
     "execution_count": 35,
     "metadata": {},
     "output_type": "execute_result"
    }
   ],
   "source": [
    "xtes[:5]"
   ]
  },
  {
   "cell_type": "code",
   "execution_count": 36,
   "metadata": {
    "execution": {
     "iopub.execute_input": "2020-10-09T08:32:31.369868Z",
     "iopub.status.busy": "2020-10-09T08:32:31.369109Z",
     "iopub.status.idle": "2020-10-09T08:32:31.375261Z",
     "shell.execute_reply": "2020-10-09T08:32:31.375756Z"
    },
    "papermill": {
     "duration": 0.097201,
     "end_time": "2020-10-09T08:32:31.375919",
     "exception": false,
     "start_time": "2020-10-09T08:32:31.278718",
     "status": "completed"
    },
    "tags": []
   },
   "outputs": [
    {
     "data": {
      "text/plain": [
       "array([[0.49490774, 0.49505024, 0.49094256, 0.48785321, 0.0748028 ],\n",
       "       [0.49019116, 0.48714539, 0.49366716, 0.48998165, 0.04937134],\n",
       "       [0.4918716 , 0.49150414, 0.49307806, 0.49152294, 0.06280644],\n",
       "       [0.4937003 , 0.49135638, 0.49315169, 0.49570642, 0.0634702 ],\n",
       "       [0.49809003, 0.49726655, 0.49764359, 0.50157798, 0.07748085]])"
      ]
     },
     "execution_count": 36,
     "metadata": {},
     "output_type": "execute_result"
    }
   ],
   "source": [
    "y_pred[:5]"
   ]
  },
  {
   "cell_type": "code",
   "execution_count": 37,
   "metadata": {
    "execution": {
     "iopub.execute_input": "2020-10-09T08:32:31.576985Z",
     "iopub.status.busy": "2020-10-09T08:32:31.576053Z",
     "iopub.status.idle": "2020-10-09T08:32:31.580206Z",
     "shell.execute_reply": "2020-10-09T08:32:31.579558Z"
    },
    "papermill": {
     "duration": 0.107327,
     "end_time": "2020-10-09T08:32:31.580322",
     "exception": false,
     "start_time": "2020-10-09T08:32:31.472995",
     "status": "completed"
    },
    "tags": []
   },
   "outputs": [],
   "source": [
    "y_pred = scale.inverse_transform(y_pred)"
   ]
  },
  {
   "cell_type": "code",
   "execution_count": 38,
   "metadata": {
    "execution": {
     "iopub.execute_input": "2020-10-09T08:32:31.776649Z",
     "iopub.status.busy": "2020-10-09T08:32:31.775482Z",
     "iopub.status.idle": "2020-10-09T08:32:31.780768Z",
     "shell.execute_reply": "2020-10-09T08:32:31.781281Z"
    },
    "papermill": {
     "duration": 0.100773,
     "end_time": "2020-10-09T08:32:31.781423",
     "exception": false,
     "start_time": "2020-10-09T08:32:31.680650",
     "status": "completed"
    },
    "tags": []
   },
   "outputs": [
    {
     "data": {
      "text/plain": [
       "array([[8.96605076e+01, 9.03000000e+01, 8.83800000e+01, 8.86400000e+01,\n",
       "        5.23639400e+06],\n",
       "       [8.90218833e+01, 8.92300000e+01, 8.87500000e+01, 8.89300000e+01,\n",
       "        3.51650200e+06],\n",
       "       [8.92494140e+01, 8.98200000e+01, 8.86700000e+01, 8.91400000e+01,\n",
       "        4.42509800e+06],\n",
       "       [8.94970200e+01, 8.98000000e+01, 8.86800000e+01, 8.97100000e+01,\n",
       "        4.46998700e+06],\n",
       "       [9.00913899e+01, 9.06000000e+01, 8.92900000e+01, 9.05100000e+01,\n",
       "        5.41750600e+06]])"
      ]
     },
     "execution_count": 38,
     "metadata": {},
     "output_type": "execute_result"
    }
   ],
   "source": [
    "ypred= y_pred[:,0]\n",
    "y_pred[:5]"
   ]
  },
  {
   "cell_type": "code",
   "execution_count": 39,
   "metadata": {
    "execution": {
     "iopub.execute_input": "2020-10-09T08:32:31.989077Z",
     "iopub.status.busy": "2020-10-09T08:32:31.987133Z",
     "iopub.status.idle": "2020-10-09T08:32:31.989780Z",
     "shell.execute_reply": "2020-10-09T08:32:31.990303Z"
    },
    "papermill": {
     "duration": 0.107433,
     "end_time": "2020-10-09T08:32:31.990452",
     "exception": false,
     "start_time": "2020-10-09T08:32:31.883019",
     "status": "completed"
    },
    "tags": []
   },
   "outputs": [],
   "source": [
    "ytest = ytest.reshape((len(ytest), 1))"
   ]
  },
  {
   "cell_type": "code",
   "execution_count": 40,
   "metadata": {
    "execution": {
     "iopub.execute_input": "2020-10-09T08:32:32.201696Z",
     "iopub.status.busy": "2020-10-09T08:32:32.199683Z",
     "iopub.status.idle": "2020-10-09T08:32:32.204724Z",
     "shell.execute_reply": "2020-10-09T08:32:32.204109Z"
    },
    "papermill": {
     "duration": 0.100515,
     "end_time": "2020-10-09T08:32:32.204841",
     "exception": false,
     "start_time": "2020-10-09T08:32:32.104326",
     "status": "completed"
    },
    "tags": []
   },
   "outputs": [
    {
     "data": {
      "text/plain": [
       "array([[0.48833087],\n",
       "       [0.48840473],\n",
       "       [0.49194978],\n",
       "       [0.49305761],\n",
       "       [0.4993353 ]])"
      ]
     },
     "execution_count": 40,
     "metadata": {},
     "output_type": "execute_result"
    }
   ],
   "source": [
    "ytest[:5]"
   ]
  },
  {
   "cell_type": "code",
   "execution_count": 41,
   "metadata": {
    "execution": {
     "iopub.execute_input": "2020-10-09T08:32:32.409565Z",
     "iopub.status.busy": "2020-10-09T08:32:32.408509Z",
     "iopub.status.idle": "2020-10-09T08:32:32.410673Z",
     "shell.execute_reply": "2020-10-09T08:32:32.411197Z"
    },
    "papermill": {
     "duration": 0.098655,
     "end_time": "2020-10-09T08:32:32.411323",
     "exception": false,
     "start_time": "2020-10-09T08:32:32.312668",
     "status": "completed"
    },
    "tags": []
   },
   "outputs": [],
   "source": [
    "\n",
    "from numpy import concatenate"
   ]
  },
  {
   "cell_type": "code",
   "execution_count": 42,
   "metadata": {
    "execution": {
     "iopub.execute_input": "2020-10-09T08:32:32.597001Z",
     "iopub.status.busy": "2020-10-09T08:32:32.596214Z",
     "iopub.status.idle": "2020-10-09T08:32:32.599941Z",
     "shell.execute_reply": "2020-10-09T08:32:32.600367Z"
    },
    "papermill": {
     "duration": 0.099606,
     "end_time": "2020-10-09T08:32:32.600515",
     "exception": false,
     "start_time": "2020-10-09T08:32:32.500909",
     "status": "completed"
    },
    "tags": []
   },
   "outputs": [],
   "source": [
    "ytest= concatenate((ytest,xtes[:, 1:]), axis=1)"
   ]
  },
  {
   "cell_type": "code",
   "execution_count": 43,
   "metadata": {
    "execution": {
     "iopub.execute_input": "2020-10-09T08:32:32.784646Z",
     "iopub.status.busy": "2020-10-09T08:32:32.783113Z",
     "iopub.status.idle": "2020-10-09T08:32:32.786060Z",
     "shell.execute_reply": "2020-10-09T08:32:32.786582Z"
    },
    "papermill": {
     "duration": 0.097827,
     "end_time": "2020-10-09T08:32:32.786751",
     "exception": false,
     "start_time": "2020-10-09T08:32:32.688924",
     "status": "completed"
    },
    "tags": []
   },
   "outputs": [],
   "source": [
    "y_test = scale.inverse_transform(ytest)"
   ]
  },
  {
   "cell_type": "code",
   "execution_count": 44,
   "metadata": {
    "execution": {
     "iopub.execute_input": "2020-10-09T08:32:32.976188Z",
     "iopub.status.busy": "2020-10-09T08:32:32.974818Z",
     "iopub.status.idle": "2020-10-09T08:32:32.979810Z",
     "shell.execute_reply": "2020-10-09T08:32:32.980321Z"
    },
    "papermill": {
     "duration": 0.10248,
     "end_time": "2020-10-09T08:32:32.980465",
     "exception": false,
     "start_time": "2020-10-09T08:32:32.877985",
     "status": "completed"
    },
    "tags": []
   },
   "outputs": [
    {
     "data": {
      "text/plain": [
       "array([88.77, 88.78, 89.26, 89.41, 90.26])"
      ]
     },
     "execution_count": 44,
     "metadata": {},
     "output_type": "execute_result"
    }
   ],
   "source": [
    "y_test=y_test[:,0]\n",
    "y_test[:5]"
   ]
  },
  {
   "cell_type": "code",
   "execution_count": 45,
   "metadata": {
    "execution": {
     "iopub.execute_input": "2020-10-09T08:32:33.203328Z",
     "iopub.status.busy": "2020-10-09T08:32:33.202410Z",
     "iopub.status.idle": "2020-10-09T08:32:33.247121Z",
     "shell.execute_reply": "2020-10-09T08:32:33.247759Z"
    },
    "papermill": {
     "duration": 0.143021,
     "end_time": "2020-10-09T08:32:33.247911",
     "exception": false,
     "start_time": "2020-10-09T08:32:33.104890",
     "status": "completed"
    },
    "tags": []
   },
   "outputs": [
    {
     "data": {
      "text/plain": [
       "1.2589976389415958"
      ]
     },
     "execution_count": 45,
     "metadata": {},
     "output_type": "execute_result"
    }
   ],
   "source": [
    "from sklearn.metrics import mean_squared_error\n",
    "np.sqrt(mean_squared_error(y_test,ypred))"
   ]
  },
  {
   "cell_type": "markdown",
   "metadata": {
    "papermill": {
     "duration": 0.091321,
     "end_time": "2020-10-09T08:32:33.444172",
     "exception": false,
     "start_time": "2020-10-09T08:32:33.352851",
     "status": "completed"
    },
    "tags": []
   },
   "source": [
    "BidirectionalLSTM=1.150973,BidirectionalLSTM1=1.245855,LSTM=1.502515,stackedlstm1-1.53426,stackedlstm2=1.790709,stackedlstm-2.1193"
   ]
  },
  {
   "cell_type": "code",
   "execution_count": 46,
   "metadata": {
    "execution": {
     "iopub.execute_input": "2020-10-09T08:32:33.633997Z",
     "iopub.status.busy": "2020-10-09T08:32:33.633077Z",
     "iopub.status.idle": "2020-10-09T08:32:33.638203Z",
     "shell.execute_reply": "2020-10-09T08:32:33.637558Z"
    },
    "papermill": {
     "duration": 0.103136,
     "end_time": "2020-10-09T08:32:33.638320",
     "exception": false,
     "start_time": "2020-10-09T08:32:33.535184",
     "status": "completed"
    },
    "tags": []
   },
   "outputs": [
    {
     "data": {
      "text/plain": [
       "array([88.77, 88.78, 89.26, 89.41, 90.26])"
      ]
     },
     "execution_count": 46,
     "metadata": {},
     "output_type": "execute_result"
    }
   ],
   "source": [
    "y_test[:5]"
   ]
  },
  {
   "cell_type": "code",
   "execution_count": 47,
   "metadata": {
    "execution": {
     "iopub.execute_input": "2020-10-09T08:32:33.837931Z",
     "iopub.status.busy": "2020-10-09T08:32:33.836892Z",
     "iopub.status.idle": "2020-10-09T08:32:33.841603Z",
     "shell.execute_reply": "2020-10-09T08:32:33.841019Z"
    },
    "papermill": {
     "duration": 0.102761,
     "end_time": "2020-10-09T08:32:33.841737",
     "exception": false,
     "start_time": "2020-10-09T08:32:33.738976",
     "status": "completed"
    },
    "tags": []
   },
   "outputs": [
    {
     "data": {
      "text/plain": [
       "array([89.66050756, 89.02188329, 89.24941401, 89.49702004, 90.09138989])"
      ]
     },
     "execution_count": 47,
     "metadata": {},
     "output_type": "execute_result"
    }
   ],
   "source": [
    "ypred[:5]"
   ]
  }
 ],
 "metadata": {
  "kernelspec": {
   "display_name": "Python 3 (ipykernel)",
   "language": "python",
   "name": "python3"
  },
  "language_info": {
   "codemirror_mode": {
    "name": "ipython",
    "version": 3
   },
   "file_extension": ".py",
   "mimetype": "text/x-python",
   "name": "python",
   "nbconvert_exporter": "python",
   "pygments_lexer": "ipython3",
   "version": "3.11.5"
  },
  "papermill": {
   "duration": 127.344264,
   "end_time": "2020-10-09T08:32:35.214725",
   "environment_variables": {},
   "exception": null,
   "input_path": "__notebook__.ipynb",
   "output_path": "__notebook__.ipynb",
   "parameters": {},
   "start_time": "2020-10-09T08:30:27.870461",
   "version": "2.1.0"
  }
 },
 "nbformat": 4,
 "nbformat_minor": 4
}
