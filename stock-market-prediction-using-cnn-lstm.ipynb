{
 "cells": [
  {
   "cell_type": "markdown",
   "metadata": {
    "_cell_guid": "a91e38c1-8aa0-456f-b347-a6d7e3e2f76f",
    "_uuid": "50113b26-4373-4308-80e2-40dceb00904a"
   },
   "source": [
    "# Stock Market Prediction using CNN-LSTM model\n",
    "This project is about analysis of Stock Market and providing predictions to the stockholders. For this, we used CNN-LSTM approach to create a blank model, then use it to train on stock market data. Further implementation is discussed below..."
   ]
  },
  {
   "cell_type": "code",
   "execution_count": 1,
   "metadata": {
    "_cell_guid": "5f8b5c75-be7d-4ce7-8bd9-8c9519237d47",
    "_uuid": "3031c34e-1fee-4df2-905b-0880423fc95f",
    "execution": {
     "iopub.execute_input": "2021-12-28T04:27:28.940160Z",
     "iopub.status.busy": "2021-12-28T04:27:28.939865Z",
     "iopub.status.idle": "2021-12-28T04:27:28.946318Z",
     "shell.execute_reply": "2021-12-28T04:27:28.943929Z",
     "shell.execute_reply.started": "2021-12-28T04:27:28.940128Z"
    },
    "jupyter": {
     "outputs_hidden": false
    }
   },
   "outputs": [],
   "source": [
    "# This Python 3 environment comes with many helpful analytics libraries installed\n",
    "# It is defined by the kaggle/python Docker image: https://github.com/kaggle/docker-python\n",
    "# For example, here's several helpful packages to load\n",
    "\n",
    "import numpy as np # linear algebra\n",
    "import pandas as pd # data processing, CSV file I/O (e.g. pd.read_csv)\n",
    "\n",
    "# Input data files are available in the read-only \"../input/\" directory\n",
    "# For example, running this (by clicking run or pressing Shift+Enter) will list all files under the input directory\n",
    "\n",
    "import os\n",
    "#for dirname, _, filenames in os.walk('/kaggle/input'):\n",
    "#    for filename in filenames:\n",
    "#        print(os.path.join(dirname, filename))\n",
    "\n",
    "# You can write up to 20GB to the current directory (/kaggle/working/) that gets preserved as output when you create a version using \"Save & Run All\" \n",
    "# You can also write temporary files to /kaggle/temp/, but they won't be saved outside of the current session"
   ]
  },
  {
   "cell_type": "markdown",
   "metadata": {
    "_cell_guid": "19346b12-f259-4de0-aec7-d971827dc9f0",
    "_uuid": "1f5927af-c7d5-47d2-8893-78aa2f236de3"
   },
   "source": [
    "# Data Preprocessing and Analysis"
   ]
  },
  {
   "cell_type": "code",
   "execution_count": 2,
   "metadata": {
    "_cell_guid": "9bcd8bfd-bf68-455e-b1cd-3ba2f9553126",
    "_uuid": "1a48a09a-f9c0-4760-a1cf-d0256f296ea2",
    "execution": {
     "iopub.execute_input": "2021-12-28T04:27:28.957940Z",
     "iopub.status.busy": "2021-12-28T04:27:28.957738Z",
     "iopub.status.idle": "2021-12-28T04:27:28.965054Z",
     "shell.execute_reply": "2021-12-28T04:27:28.964266Z",
     "shell.execute_reply.started": "2021-12-28T04:27:28.957917Z"
    },
    "jupyter": {
     "outputs_hidden": false
    }
   },
   "outputs": [],
   "source": [
    "import math\n",
    "import seaborn as sns\n",
    "import datetime as dt\n",
    "from datetime import datetime    \n",
    "sns.set_style(\"whitegrid\")\n",
    "from pandas.plotting import autocorrelation_plot\n",
    "import matplotlib.pyplot as plt\n",
    "%matplotlib inline\n",
    "plt.style.use(\"ggplot\")"
   ]
  },
  {
   "cell_type": "markdown",
   "metadata": {
    "_cell_guid": "53b9791d-b0c6-46a5-a897-9fe83a629828",
    "_uuid": "5ea3174e-81f8-4833-a037-80077cf08a09"
   },
   "source": [
    "Before preprocessing data, a function to fetch real-time stock data (using Alpha Vantage API) is made"
   ]
  },
  {
   "cell_type": "code",
   "execution_count": 5,
   "metadata": {
    "_cell_guid": "96f1c523-8e7c-4fd8-b92c-07d5014fb4e7",
    "_kg_hide-input": true,
    "_uuid": "f31fc433-b719-4118-a3c3-dca4032d49da",
    "execution": {
     "iopub.execute_input": "2021-12-28T04:27:29.009914Z",
     "iopub.status.busy": "2021-12-28T04:27:29.009715Z",
     "iopub.status.idle": "2021-12-28T04:27:29.521627Z",
     "shell.execute_reply": "2021-12-28T04:27:29.520818Z",
     "shell.execute_reply.started": "2021-12-28T04:27:29.009890Z"
    },
    "jupyter": {
     "outputs_hidden": false
    }
   },
   "outputs": [
    {
     "ename": "ModuleNotFoundError",
     "evalue": "No module named 'kaggle_secrets'",
     "output_type": "error",
     "traceback": [
      "\u001b[0;31m---------------------------------------------------------------------------\u001b[0m",
      "\u001b[0;31mModuleNotFoundError\u001b[0m                       Traceback (most recent call last)",
      "Cell \u001b[0;32mIn[5], line 1\u001b[0m\n\u001b[0;32m----> 1\u001b[0m \u001b[38;5;28;01mfrom\u001b[39;00m \u001b[38;5;21;01mkaggle_secrets\u001b[39;00m \u001b[38;5;28;01mimport\u001b[39;00m UserSecretsClient\n\u001b[1;32m      2\u001b[0m user_secrets \u001b[38;5;241m=\u001b[39m UserSecretsClient()\n\u001b[1;32m      3\u001b[0m key \u001b[38;5;241m=\u001b[39m user_secrets\u001b[38;5;241m.\u001b[39mget_secret(\u001b[38;5;124m\"\u001b[39m\u001b[38;5;124mapi\u001b[39m\u001b[38;5;124m\"\u001b[39m)\n",
      "\u001b[0;31mModuleNotFoundError\u001b[0m: No module named 'kaggle_secrets'"
     ]
    }
   ],
   "source": [
    "from kaggle_secrets import UserSecretsClient\n",
    "user_secrets = UserSecretsClient()\n",
    "key = user_secrets.get_secret(\"api\")\n",
    "\n",
    "import requests\n",
    "import csv\n",
    "from tqdm import tqdm\n",
    "\n",
    "def request_stock_price_list(symbol, size, token):\n",
    "    q_string = 'https://www.alphavantage.co/query?function=TIME_SERIES_DAILY&symbol={}&outputsize={}&apikey={}'\n",
    "    \n",
    "    print(\"Retrieving stock price data from Alpha Vantage (This may take a while)...\")\n",
    "    r = requests.get(q_string.format(symbol, size, token))\n",
    "    print(\"Data has been successfully downloaded...\")\n",
    "    date = []\n",
    "    colnames = list(range(0, 5))\n",
    "    df = pd.DataFrame(columns = colnames)\n",
    "    print(\"Sorting the retrieved data into a dataframe...\")\n",
    "    for i in tqdm(r.json()['Time Series (Daily)'].keys()):\n",
    "        date.append(i)\n",
    "        row = pd.DataFrame.from_dict(r.json()['Time Series (Daily)'][i], orient='index').reset_index().T[1:]\n",
    "        df = pd.concat([df, row], ignore_index=True)\n",
    "    df.columns = [\"open\", \"high\", \"low\", \"close\", \"volume\"]\n",
    "    df['date'] = date\n",
    "    return df"
   ]
  },
  {
   "cell_type": "code",
   "execution_count": null,
   "metadata": {
    "_cell_guid": "c7203f9d-4ce6-40b5-87fc-597a8003d329",
    "_uuid": "e1e0ed5b-dfc8-4373-8c15-26790718d8c8",
    "execution": {
     "iopub.execute_input": "2021-12-28T04:27:29.525364Z",
     "iopub.status.busy": "2021-12-28T04:27:29.524519Z",
     "iopub.status.idle": "2021-12-28T04:27:29.529466Z",
     "shell.execute_reply": "2021-12-28T04:27:29.528480Z",
     "shell.execute_reply.started": "2021-12-28T04:27:29.525321Z"
    },
    "jupyter": {
     "outputs_hidden": false
    }
   },
   "outputs": [],
   "source": [
    "# UNCOMMENT THE CELL IF DATA IS NEEDED TO BE LOADED FOR 1ST TIME\n",
    "\n",
    "#cv1 = request_stock_price_list('IBM', 'full', key)\n",
    "#print(cv1.head)\n",
    "#cv1.to_csv('data.csv')"
   ]
  },
  {
   "cell_type": "markdown",
   "metadata": {
    "_cell_guid": "0ff1662c-d089-487b-9626-58bec1385a0f",
    "_uuid": "785b8944-8ecc-470e-80e5-79a5b0c6976a"
   },
   "source": [
    "Then the datasets are loaded"
   ]
  },
  {
   "cell_type": "code",
   "execution_count": null,
   "metadata": {
    "_cell_guid": "2a33c248-1ae1-426d-b73e-5afd6517d4e5",
    "_uuid": "3d65865f-342f-469c-b96f-c0735ea85abc",
    "execution": {
     "iopub.execute_input": "2021-12-28T04:27:29.531697Z",
     "iopub.status.busy": "2021-12-28T04:27:29.530907Z",
     "iopub.status.idle": "2021-12-28T04:27:29.563645Z",
     "shell.execute_reply": "2021-12-28T04:27:29.562623Z",
     "shell.execute_reply.started": "2021-12-28T04:27:29.531656Z"
    },
    "jupyter": {
     "outputs_hidden": false
    }
   },
   "outputs": [],
   "source": [
    "# For data preprocessing and analysis part\n",
    "data = pd.read_csv('../input/price-volume-data-for-all-us-stocks-etfs/Stocks/abe.us.txt')\n",
    "#data = pd.read_csv('../input/nifty50-stock-market-data/COALINDIA.csv')\n",
    "#data = pd.read_csv('../input/stock-market-data/stock_market_data/nasdaq/csv/ABCO.csv')\n",
    "#data = pd.read_csv('./data.csv')\n",
    "# Any CSV or TXT file can be added here....\n",
    "data.head()"
   ]
  },
  {
   "cell_type": "code",
   "execution_count": null,
   "metadata": {
    "_cell_guid": "b5cc611d-d8d8-4b28-974f-093ec69da7b2",
    "_uuid": "169d3965-6726-425e-b785-5a893ab0bf4f",
    "execution": {
     "iopub.execute_input": "2021-12-28T04:27:29.565879Z",
     "iopub.status.busy": "2021-12-28T04:27:29.565538Z",
     "iopub.status.idle": "2021-12-28T04:27:29.583223Z",
     "shell.execute_reply": "2021-12-28T04:27:29.582365Z",
     "shell.execute_reply.started": "2021-12-28T04:27:29.565836Z"
    },
    "jupyter": {
     "outputs_hidden": false
    }
   },
   "outputs": [],
   "source": [
    "data.info()"
   ]
  },
  {
   "cell_type": "code",
   "execution_count": null,
   "metadata": {
    "_cell_guid": "f4b661e7-39ad-4eca-a310-d91d0c2251db",
    "_uuid": "bee2addc-9634-473f-8114-9ac7c599ed92",
    "execution": {
     "iopub.execute_input": "2021-12-28T04:27:29.586723Z",
     "iopub.status.busy": "2021-12-28T04:27:29.586138Z",
     "iopub.status.idle": "2021-12-28T04:27:29.620445Z",
     "shell.execute_reply": "2021-12-28T04:27:29.619428Z",
     "shell.execute_reply.started": "2021-12-28T04:27:29.586679Z"
    },
    "jupyter": {
     "outputs_hidden": false
    }
   },
   "outputs": [],
   "source": [
    "data.describe()"
   ]
  },
  {
   "cell_type": "code",
   "execution_count": null,
   "metadata": {
    "_cell_guid": "fca54dfe-22c0-4830-88fe-a8bff992d882",
    "_uuid": "cd524fb9-6b03-400b-b5c7-d25373843adf",
    "execution": {
     "iopub.execute_input": "2021-12-28T04:27:29.622562Z",
     "iopub.status.busy": "2021-12-28T04:27:29.622236Z",
     "iopub.status.idle": "2021-12-28T04:27:29.634848Z",
     "shell.execute_reply": "2021-12-28T04:27:29.633998Z",
     "shell.execute_reply.started": "2021-12-28T04:27:29.622521Z"
    },
    "jupyter": {
     "outputs_hidden": false
    }
   },
   "outputs": [],
   "source": [
    "data.isnull().sum()"
   ]
  },
  {
   "cell_type": "markdown",
   "metadata": {
    "_cell_guid": "7b20c489-3088-4d28-ae51-61377cd924af",
    "_uuid": "9f888ec6-de80-4bbd-9842-7df63c78bf58"
   },
   "source": [
    "Filling null columns with mean values...."
   ]
  },
  {
   "cell_type": "code",
   "execution_count": null,
   "metadata": {
    "_cell_guid": "19fb1ca1-7e2c-4c3e-8cf8-e8db947f6e5b",
    "_uuid": "cea9a86d-0f67-434b-a178-657d6a435cf6",
    "execution": {
     "iopub.execute_input": "2021-12-28T04:27:29.636811Z",
     "iopub.status.busy": "2021-12-28T04:27:29.636263Z",
     "iopub.status.idle": "2021-12-28T04:27:29.666244Z",
     "shell.execute_reply": "2021-12-28T04:27:29.665253Z",
     "shell.execute_reply.started": "2021-12-28T04:27:29.636766Z"
    },
    "jupyter": {
     "outputs_hidden": false
    }
   },
   "outputs": [],
   "source": [
    "data.reset_index(drop=True, inplace=True)\n",
    "data.fillna(data.mean(), inplace=True)\n",
    "data.head()"
   ]
  },
  {
   "cell_type": "code",
   "execution_count": null,
   "metadata": {
    "_cell_guid": "21c2b493-21a6-4beb-97aa-e4809d3d3286",
    "_uuid": "3165ab49-b560-40f8-81df-5e35a32a6f29",
    "execution": {
     "iopub.execute_input": "2021-12-28T04:27:29.668349Z",
     "iopub.status.busy": "2021-12-28T04:27:29.667938Z",
     "iopub.status.idle": "2021-12-28T04:27:32.956792Z",
     "shell.execute_reply": "2021-12-28T04:27:32.956130Z",
     "shell.execute_reply.started": "2021-12-28T04:27:29.668305Z"
    },
    "jupyter": {
     "outputs_hidden": false
    }
   },
   "outputs": [],
   "source": [
    "data.plot(legend=True,subplots=True, figsize = (12, 6))\n",
    "plt.show()\n",
    "#data['Close'].plot(legend=True, figsize = (12, 6))\n",
    "#plt.show()\n",
    "#data['Volume'].plot(legend=True,figsize=(12,7))\n",
    "#plt.show()\n",
    "\n",
    "data.shape\n",
    "data.size\n",
    "data.describe(include='all').T\n",
    "data.dtypes\n",
    "data.nunique()\n",
    "ma_day = [10,50,100]\n",
    "\n",
    "for ma in ma_day:\n",
    "    column_name = \"MA for %s days\" %(str(ma))\n",
    "    data[column_name]=pd.DataFrame.rolling(data['Close'],ma).mean()\n",
    "\n",
    "data['Daily Return'] = data['Close'].pct_change()\n",
    "# plot the daily return percentage\n",
    "data['Daily Return'].plot(figsize=(12,5),legend=True,linestyle=':',marker='o')\n",
    "plt.show()\n",
    "\n",
    "sns.displot(data['Daily Return'].dropna(),bins=100,color='green')\n",
    "plt.show()\n",
    "\n",
    "date=pd.DataFrame(data['Date'])\n",
    "closing_df1 = pd.DataFrame(data['Close'])\n",
    "close1  = closing_df1.rename(columns={\"Close\": \"data_close\"})\n",
    "close2=pd.concat([date,close1],axis=1)\n",
    "close2.head()\n",
    "\n",
    "data.reset_index(drop=True, inplace=True)\n",
    "data.fillna(data.mean(), inplace=True)\n",
    "data.head()\n",
    "\n",
    "data.nunique()\n",
    "\n",
    "data.sort_index(axis=1,ascending=True)\n",
    "\n",
    "cols_plot = ['Open', 'High', 'Low','Close','Volume','MA for 10 days','MA for 50 days','MA for 100 days','Daily Return']\n",
    "axes = data[cols_plot].plot(marker='.', alpha=0.7, linestyle='None', figsize=(11, 9), subplots=True)\n",
    "for ax in axes:\n",
    "    ax.set_ylabel('Daily trade')\n",
    "\n",
    "plt.plot(data['Close'], label=\"Close price\")\n",
    "plt.xlabel(\"Timestamp\")\n",
    "plt.ylabel(\"Closing price\")\n",
    "df = data\n",
    "print(df)\n",
    "\n",
    "data.isnull().sum()"
   ]
  },
  {
   "cell_type": "markdown",
   "metadata": {
    "_cell_guid": "c6eae271-072a-4837-9ab3-26a45d09b436",
    "_uuid": "0a0a97b4-e228-4bd1-b90f-3d8cf1f5e202"
   },
   "source": [
    "After that, we'll visualize the data for understanding, this is shown below..."
   ]
  },
  {
   "cell_type": "code",
   "execution_count": null,
   "metadata": {
    "_cell_guid": "a93f7b57-0677-499f-9ac6-e3d82b214144",
    "_uuid": "132599f3-77b7-49f3-9636-0e112c425ca8",
    "execution": {
     "iopub.execute_input": "2021-12-28T04:27:32.958457Z",
     "iopub.status.busy": "2021-12-28T04:27:32.958080Z",
     "iopub.status.idle": "2021-12-28T04:27:33.655625Z",
     "shell.execute_reply": "2021-12-28T04:27:33.654856Z",
     "shell.execute_reply.started": "2021-12-28T04:27:32.958421Z"
    },
    "jupyter": {
     "outputs_hidden": false
    }
   },
   "outputs": [],
   "source": [
    "cols_plot = ['Open', 'High', 'Low','Close']\n",
    "axes = data[cols_plot].plot(marker='.', alpha=0.5, linestyle='None', figsize=(11, 9), subplots=True)\n",
    "for ax in axes:\n",
    "    ax.set_ylabel('Daily trade')"
   ]
  },
  {
   "cell_type": "markdown",
   "metadata": {
    "_cell_guid": "2247fa95-d128-4ddf-b333-051695b1fd26",
    "_uuid": "6d76e204-cad9-4824-b23d-2a06c5c998ae"
   },
   "source": [
    "Then we'd print the data after making changes and dropping null data"
   ]
  },
  {
   "cell_type": "code",
   "execution_count": null,
   "metadata": {
    "_cell_guid": "ed7e81c5-9b24-4624-b97f-65256f85b6d1",
    "_uuid": "a25feffb-6fc1-4f91-9470-835ae6e3fdcc",
    "execution": {
     "iopub.execute_input": "2021-12-28T04:27:33.658292Z",
     "iopub.status.busy": "2021-12-28T04:27:33.657833Z",
     "iopub.status.idle": "2021-12-28T04:27:33.978107Z",
     "shell.execute_reply": "2021-12-28T04:27:33.977295Z",
     "shell.execute_reply.started": "2021-12-28T04:27:33.658253Z"
    },
    "jupyter": {
     "outputs_hidden": false
    }
   },
   "outputs": [],
   "source": [
    "plt.plot(data['Close'], label=\"Close price\")\n",
    "plt.xlabel(\"Timestamp\")\n",
    "plt.ylabel(\"Closing price\")\n",
    "df = data\n",
    "print(df)\n",
    "\n",
    "df.describe().transpose()"
   ]
  },
  {
   "cell_type": "markdown",
   "metadata": {
    "_cell_guid": "855b4eaf-2e5f-4638-952a-b029644499b6",
    "_uuid": "916d9e8d-febe-46f2-b33d-9bc4bfa9e9ac"
   },
   "source": [
    "The data has been analysed but it must be converted into data of shape [100,1] to make it easier for CNN to train on... Else it won't select necessary features and the model will fail"
   ]
  },
  {
   "cell_type": "code",
   "execution_count": null,
   "metadata": {
    "_cell_guid": "723fc978-2737-4db4-bf91-6f6bfdb5a1f4",
    "_uuid": "1f73aea2-db5f-4deb-9591-cd26326ac474",
    "execution": {
     "iopub.execute_input": "2021-12-28T04:27:33.981208Z",
     "iopub.status.busy": "2021-12-28T04:27:33.979462Z",
     "iopub.status.idle": "2021-12-28T04:27:43.387710Z",
     "shell.execute_reply": "2021-12-28T04:27:43.386849Z",
     "shell.execute_reply.started": "2021-12-28T04:27:33.981162Z"
    },
    "jupyter": {
     "outputs_hidden": false
    }
   },
   "outputs": [],
   "source": [
    "from sklearn.model_selection import train_test_split\n",
    "\n",
    "X = []\n",
    "Y = []\n",
    "window_size=100\n",
    "for i in range(1 , len(df) - window_size -1 , 1):\n",
    "    first = df.iloc[i,2]\n",
    "    temp = []\n",
    "    temp2 = []\n",
    "    for j in range(window_size):\n",
    "        temp.append((df.iloc[i + j, 2] - first) / first)\n",
    "    temp2.append((df.iloc[i + window_size, 2] - first) / first)\n",
    "    X.append(np.array(temp).reshape(100, 1))\n",
    "    Y.append(np.array(temp2).reshape(1, 1))\n",
    "\n",
    "x_train, x_test, y_train, y_test = train_test_split(X, Y, test_size=0.2, shuffle=True)\n",
    "\n",
    "train_X = np.array(x_train)\n",
    "test_X = np.array(x_test)\n",
    "train_Y = np.array(y_train)\n",
    "test_Y = np.array(y_test)\n",
    "\n",
    "train_X = train_X.reshape(train_X.shape[0],1,100,1)\n",
    "test_X = test_X.reshape(test_X.shape[0],1,100,1)\n",
    "\n",
    "print(len(train_X))\n",
    "print(len(test_X))"
   ]
  },
  {
   "cell_type": "markdown",
   "metadata": {
    "_cell_guid": "6785a025-eb24-4404-827f-c2d2d47303f2",
    "_uuid": "fe82ba89-f0c8-4b64-956c-553669366c58"
   },
   "source": [
    "# Training part"
   ]
  },
  {
   "cell_type": "markdown",
   "metadata": {
    "_cell_guid": "dfdb374e-6288-4729-8caa-440608f6ab3b",
    "_uuid": "30b1fd08-4539-4dcc-a60b-d574f8531ba6"
   },
   "source": [
    "This part has 2 subparts: CNN and LSTM\n",
    "\n",
    "For CNN, the layers are created with sizes 64,128,64 with kernel size = 3. In every layer, TimeDistributed function is added to track the features for every temporal slice of data with respect to time. In between, MaxPooling layers are added.\n",
    "\n",
    "After that, it's passed to Bi-LSTM layers"
   ]
  },
  {
   "cell_type": "code",
   "execution_count": null,
   "metadata": {
    "_cell_guid": "229112ab-3fce-498c-ad53-4999af7272d2",
    "_uuid": "e9239bac-9a11-4388-bcfd-3824474c4918",
    "execution": {
     "iopub.execute_input": "2021-12-28T04:27:43.389696Z",
     "iopub.status.busy": "2021-12-28T04:27:43.389211Z",
     "iopub.status.idle": "2021-12-28T04:28:16.749256Z",
     "shell.execute_reply": "2021-12-28T04:28:16.748540Z",
     "shell.execute_reply.started": "2021-12-28T04:27:43.389655Z"
    },
    "jupyter": {
     "outputs_hidden": false
    }
   },
   "outputs": [],
   "source": [
    "# For creating model and training\n",
    "import tensorflow as tf\n",
    "from tensorflow.keras.layers import Conv1D, LSTM, Dense, Dropout, Bidirectional, TimeDistributed\n",
    "from tensorflow.keras.layers import MaxPooling1D, Flatten\n",
    "from tensorflow.keras.regularizers import L1, L2\n",
    "from tensorflow.keras.metrics import Accuracy\n",
    "from tensorflow.keras.metrics import RootMeanSquaredError\n",
    "\n",
    "model = tf.keras.Sequential()\n",
    "\n",
    "# Creating the Neural Network model here...\n",
    "# CNN layers\n",
    "model.add(TimeDistributed(Conv1D(64, kernel_size=3, activation='relu', input_shape=(None, 100, 1))))\n",
    "model.add(TimeDistributed(MaxPooling1D(2)))\n",
    "model.add(TimeDistributed(Conv1D(128, kernel_size=3, activation='relu')))\n",
    "model.add(TimeDistributed(MaxPooling1D(2)))\n",
    "model.add(TimeDistributed(Conv1D(64, kernel_size=3, activation='relu')))\n",
    "model.add(TimeDistributed(MaxPooling1D(2)))\n",
    "model.add(TimeDistributed(Flatten()))\n",
    "# model.add(Dense(5, kernel_regularizer=L2(0.01)))\n",
    "\n",
    "# LSTM layers\n",
    "model.add(Bidirectional(LSTM(100, return_sequences=True)))\n",
    "model.add(Dropout(0.5))\n",
    "model.add(Bidirectional(LSTM(100, return_sequences=False)))\n",
    "model.add(Dropout(0.5))\n",
    "\n",
    "#Final layers\n",
    "model.add(Dense(1, activation='linear'))\n",
    "model.compile(optimizer='adam', loss='mse', metrics=['mse', 'mae'])\n",
    "\n",
    "history = model.fit(train_X, train_Y, validation_data=(test_X,test_Y), epochs=40,batch_size=40, verbose=1, shuffle =True)"
   ]
  },
  {
   "cell_type": "code",
   "execution_count": null,
   "metadata": {
    "_cell_guid": "9645f6f3-2add-4f21-ba0f-56c0064461a0",
    "_uuid": "6baf73fc-40b1-4734-955c-502d9a687189",
    "execution": {
     "iopub.execute_input": "2021-12-28T04:28:16.752618Z",
     "iopub.status.busy": "2021-12-28T04:28:16.752390Z",
     "iopub.status.idle": "2021-12-28T04:28:17.093919Z",
     "shell.execute_reply": "2021-12-28T04:28:17.093106Z",
     "shell.execute_reply.started": "2021-12-28T04:28:16.752592Z"
    },
    "jupyter": {
     "outputs_hidden": false
    }
   },
   "outputs": [],
   "source": [
    "plt.plot(history.history['loss'], label='train loss')\n",
    "plt.plot(history.history['val_loss'], label='val loss')\n",
    "plt.xlabel(\"epoch\")\n",
    "plt.ylabel(\"Loss\")\n",
    "plt.legend()"
   ]
  },
  {
   "cell_type": "code",
   "execution_count": null,
   "metadata": {
    "_cell_guid": "c8bdcf53-6a8f-45b6-9eed-70e9c95ad2a1",
    "_uuid": "155c9869-ecf1-4336-bdbf-7f82ba2b4abe",
    "execution": {
     "iopub.execute_input": "2021-12-28T04:28:17.097980Z",
     "iopub.status.busy": "2021-12-28T04:28:17.097777Z",
     "iopub.status.idle": "2021-12-28T04:28:17.444535Z",
     "shell.execute_reply": "2021-12-28T04:28:17.443854Z",
     "shell.execute_reply.started": "2021-12-28T04:28:17.097955Z"
    },
    "jupyter": {
     "outputs_hidden": false
    }
   },
   "outputs": [],
   "source": [
    "plt.plot(history.history['mse'], label='train mse')\n",
    "plt.plot(history.history['val_mse'], label='val mse')\n",
    "plt.xlabel(\"epoch\")\n",
    "plt.ylabel(\"Loss\")\n",
    "plt.legend()"
   ]
  },
  {
   "cell_type": "code",
   "execution_count": null,
   "metadata": {
    "_cell_guid": "4efe8a42-b310-45df-9f88-d89fed049dd0",
    "_uuid": "5df26446-6fc2-432a-a322-b7769e6ee7f5",
    "execution": {
     "iopub.execute_input": "2021-12-28T04:28:17.446333Z",
     "iopub.status.busy": "2021-12-28T04:28:17.445904Z",
     "iopub.status.idle": "2021-12-28T04:28:17.768376Z",
     "shell.execute_reply": "2021-12-28T04:28:17.767584Z",
     "shell.execute_reply.started": "2021-12-28T04:28:17.446295Z"
    },
    "jupyter": {
     "outputs_hidden": false
    }
   },
   "outputs": [],
   "source": [
    "plt.plot(history.history['mae'], label='train mae')\n",
    "plt.plot(history.history['val_mae'], label='val mae')\n",
    "plt.xlabel(\"epoch\")\n",
    "plt.ylabel(\"Loss\")\n",
    "plt.legend()"
   ]
  },
  {
   "cell_type": "code",
   "execution_count": null,
   "metadata": {
    "_cell_guid": "3638b9a5-3eba-4486-a13a-e83fc8168e69",
    "_uuid": "5869eafa-ea78-4475-840b-ba2a3ee2f4c7",
    "execution": {
     "iopub.execute_input": "2021-12-28T04:28:17.770400Z",
     "iopub.status.busy": "2021-12-28T04:28:17.769915Z",
     "iopub.status.idle": "2021-12-28T04:28:18.046723Z",
     "shell.execute_reply": "2021-12-28T04:28:18.046041Z",
     "shell.execute_reply.started": "2021-12-28T04:28:17.770357Z"
    },
    "jupyter": {
     "outputs_hidden": false
    }
   },
   "outputs": [],
   "source": [
    "# After the model has been constructed, we'll summarise it\n",
    "from tensorflow.keras.utils import plot_model\n",
    "print(model.summary())\n",
    "plot_model(model, to_file='model.png', show_shapes=True, show_layer_names=True)"
   ]
  },
  {
   "cell_type": "code",
   "execution_count": null,
   "metadata": {
    "_cell_guid": "35f436bb-f5f6-495a-b5b7-40f12788e87c",
    "_uuid": "2d43d640-2644-445a-a48d-473b43d4f35c",
    "execution": {
     "iopub.execute_input": "2021-12-28T04:28:18.048900Z",
     "iopub.status.busy": "2021-12-28T04:28:18.048498Z",
     "iopub.status.idle": "2021-12-28T04:28:18.185679Z",
     "shell.execute_reply": "2021-12-28T04:28:18.184961Z",
     "shell.execute_reply.started": "2021-12-28T04:28:18.048861Z"
    },
    "jupyter": {
     "outputs_hidden": false
    }
   },
   "outputs": [],
   "source": [
    "model.evaluate(test_X, test_Y)"
   ]
  },
  {
   "cell_type": "code",
   "execution_count": null,
   "metadata": {
    "_cell_guid": "db6ab389-4914-438e-8ea0-7f3f685b5db6",
    "_uuid": "eccd8373-077e-4d74-905c-d291ee59af76",
    "execution": {
     "iopub.execute_input": "2021-12-28T04:28:18.187735Z",
     "iopub.status.busy": "2021-12-28T04:28:18.186944Z",
     "iopub.status.idle": "2021-12-28T04:28:19.388855Z",
     "shell.execute_reply": "2021-12-28T04:28:19.388145Z",
     "shell.execute_reply.started": "2021-12-28T04:28:18.187696Z"
    },
    "jupyter": {
     "outputs_hidden": false
    }
   },
   "outputs": [],
   "source": [
    "from sklearn.metrics import explained_variance_score, mean_poisson_deviance, mean_gamma_deviance\n",
    "from sklearn.metrics import r2_score\n",
    "from sklearn.metrics import max_error\n",
    "\n",
    "# predict probabilities for test set\n",
    "yhat_probs = model.predict(test_X, verbose=0)\n",
    "# reduce to 1d array\n",
    "yhat_probs = yhat_probs[:, 0]\n",
    "\n",
    "var = explained_variance_score(test_Y.reshape(-1,1), yhat_probs)\n",
    "print('Variance: %f' % var)\n",
    "\n",
    "r2 = r2_score(test_Y.reshape(-1,1), yhat_probs)\n",
    "print('R2 Score: %f' % var)\n",
    "\n",
    "var2 = max_error(test_Y.reshape(-1,1), yhat_probs)\n",
    "print('Max Error: %f' % var2)"
   ]
  },
  {
   "cell_type": "code",
   "execution_count": null,
   "metadata": {
    "_cell_guid": "a3ec4f5c-a3d1-4d96-ae31-064e617d8734",
    "_uuid": "3a7d2999-a54d-4c6d-9767-9e2cee1b902d",
    "execution": {
     "iopub.execute_input": "2021-12-28T04:28:19.390819Z",
     "iopub.status.busy": "2021-12-28T04:28:19.390344Z",
     "iopub.status.idle": "2021-12-28T04:28:19.778073Z",
     "shell.execute_reply": "2021-12-28T04:28:19.777110Z",
     "shell.execute_reply.started": "2021-12-28T04:28:19.390782Z"
    },
    "jupyter": {
     "outputs_hidden": false
    }
   },
   "outputs": [],
   "source": [
    "predicted  = model.predict(test_X)\n",
    "test_label = test_Y.reshape(-1,1)\n",
    "predicted = np.array(predicted[:,0]).reshape(-1,1)\n",
    "len_t = len(train_X)\n",
    "for j in range(len_t , len_t + len(test_X)):\n",
    "    temp = data.iloc[j,3]\n",
    "    test_label[j - len_t] = test_label[j - len_t] * temp + temp\n",
    "    predicted[j - len_t] = predicted[j - len_t] * temp + temp\n",
    "plt.plot(predicted, color = 'green', label = 'Predicted  Stock Price')\n",
    "plt.plot(test_label, color = 'red', label = 'Real Stock Price')\n",
    "plt.title(' Stock Price Prediction')\n",
    "plt.xlabel('Time')\n",
    "plt.ylabel(' Stock Price')\n",
    "plt.legend()\n",
    "plt.show()"
   ]
  },
  {
   "cell_type": "markdown",
   "metadata": {
    "_cell_guid": "6245bd4b-1c54-42a3-bfe4-59cab7a73dde",
    "_uuid": "2a20c375-0620-4860-857e-f8b294ee5e3e"
   },
   "source": [
    "# Testing part"
   ]
  },
  {
   "cell_type": "markdown",
   "metadata": {
    "_cell_guid": "cc8ce493-47d3-4fc6-bbc5-30f8a2c12db0",
    "_uuid": "5d7cfe4e-7179-4f92-9e02-687c3473fc48"
   },
   "source": [
    "In this part, the model is saved and loaded back again. Then, it's made to train again but with different data to check it's loss and prediction"
   ]
  },
  {
   "cell_type": "code",
   "execution_count": null,
   "metadata": {
    "_cell_guid": "681c8af1-032a-4b2d-be97-1562cc084b58",
    "_uuid": "b8f4111d-9ca4-408e-9117-894f7b0f2178",
    "execution": {
     "iopub.execute_input": "2021-12-28T04:28:19.779775Z",
     "iopub.status.busy": "2021-12-28T04:28:19.779535Z",
     "iopub.status.idle": "2021-12-28T04:28:19.856853Z",
     "shell.execute_reply": "2021-12-28T04:28:19.856124Z",
     "shell.execute_reply.started": "2021-12-28T04:28:19.779742Z"
    },
    "jupyter": {
     "outputs_hidden": false
    }
   },
   "outputs": [],
   "source": [
    "# First we need to save a model\n",
    "model.save(\"model.h5\")"
   ]
  },
  {
   "cell_type": "code",
   "execution_count": null,
   "metadata": {
    "_cell_guid": "f563c80d-2213-4da3-a17a-65667e8af015",
    "_uuid": "37782d88-71ad-4b8a-b0e6-9c7b85b1cc83",
    "execution": {
     "iopub.execute_input": "2021-12-28T04:28:19.858548Z",
     "iopub.status.busy": "2021-12-28T04:28:19.858281Z",
     "iopub.status.idle": "2021-12-28T04:28:20.846425Z",
     "shell.execute_reply": "2021-12-28T04:28:20.845651Z",
     "shell.execute_reply.started": "2021-12-28T04:28:19.858481Z"
    },
    "jupyter": {
     "outputs_hidden": false
    }
   },
   "outputs": [],
   "source": [
    "# Load model\n",
    "new_model = tf.keras.models.load_model(\"./model.h5\")"
   ]
  },
  {
   "cell_type": "code",
   "execution_count": null,
   "metadata": {
    "_cell_guid": "e8fbb1f5-8607-47bf-a434-c9c92cd014cc",
    "_uuid": "7a8c14f5-d4db-496d-9ad0-cf138818fabd",
    "execution": {
     "iopub.execute_input": "2021-12-28T04:28:20.848002Z",
     "iopub.status.busy": "2021-12-28T04:28:20.847754Z",
     "iopub.status.idle": "2021-12-28T04:28:20.860478Z",
     "shell.execute_reply": "2021-12-28T04:28:20.859717Z",
     "shell.execute_reply.started": "2021-12-28T04:28:20.847970Z"
    },
    "jupyter": {
     "outputs_hidden": false
    }
   },
   "outputs": [],
   "source": [
    "new_model.summary()"
   ]
  },
  {
   "cell_type": "code",
   "execution_count": null,
   "metadata": {
    "_cell_guid": "6370f9eb-6238-4447-96f9-f62453e78178",
    "_uuid": "281357a5-723a-4a20-8a22-4c4f51d6d86b",
    "execution": {
     "iopub.execute_input": "2021-12-28T04:28:20.863335Z",
     "iopub.status.busy": "2021-12-28T04:28:20.863146Z",
     "iopub.status.idle": "2021-12-28T04:28:37.832634Z",
     "shell.execute_reply": "2021-12-28T04:28:37.831862Z",
     "shell.execute_reply.started": "2021-12-28T04:28:20.863312Z"
    },
    "jupyter": {
     "outputs_hidden": false
    }
   },
   "outputs": [],
   "source": [
    "# For data preprocessing and analysis part\n",
    "#data2 = pd.read_csv('../input/price-volume-data-for-all-us-stocks-etfs/Stocks/aaoi.us.txt')\n",
    "#data2 = pd.read_csv('../input/nifty50-stock-market-data/SBIN.csv')\n",
    "#data2 = pd.read_csv('../input/stock-market-data/stock_market_data/nasdaq/csv/ACTG.csv')\n",
    "data2 = pd.read_csv('./data.csv')\n",
    "# Any CSV or TXT file can be added here....\n",
    "data2.dropna(inplace=True)\n",
    "data2.head()\n",
    "\n",
    "data2.reset_index(drop=True, inplace=True)\n",
    "data2.fillna(data.mean(), inplace=True)\n",
    "data2.head()\n",
    "df2 = data2.drop('date', axis=1)\n",
    "\n",
    "print(df2)\n",
    "\n",
    "X = []\n",
    "Y = []\n",
    "window_size=100\n",
    "for i in range(1 , len(df2) - window_size -1 , 1):\n",
    "    first = df2.iloc[i,4]\n",
    "    temp = []\n",
    "    temp2 = []\n",
    "    for j in range(window_size):\n",
    "        temp.append((df2.iloc[i + j, 4] - first) / first)\n",
    "    # for j in range(week):\n",
    "    temp2.append((df2.iloc[i + window_size, 4] - first) / first)\n",
    "    # X.append(np.array(stock.iloc[i:i+window_size,4]).reshape(50,1))\n",
    "    # Y.append(np.array(stock.iloc[i+window_size,4]).reshape(1,1))\n",
    "    # print(stock2.iloc[i:i+window_size,4])\n",
    "    X.append(np.array(temp).reshape(100, 1))\n",
    "    Y.append(np.array(temp2).reshape(1, 1))\n",
    "\n",
    "x_train, x_test, y_train, y_test = train_test_split(X, Y, test_size=0.2, shuffle=False)\n",
    "\n",
    "train_X = np.array(x_train)\n",
    "test_X = np.array(x_test)\n",
    "train_Y = np.array(y_train)\n",
    "test_Y = np.array(y_test)\n",
    "\n",
    "train_X = train_X.reshape(train_X.shape[0],1,100,1)\n",
    "test_X = test_X.reshape(test_X.shape[0],1,100,1)\n",
    "\n",
    "print(len(train_X))\n",
    "print(len(test_X))"
   ]
  },
  {
   "cell_type": "code",
   "execution_count": null,
   "metadata": {
    "_cell_guid": "52195aae-436d-42b8-b1ce-fe02b57585b5",
    "_uuid": "ac8256f1-ca24-4f80-8cae-30dc361be40c",
    "execution": {
     "iopub.execute_input": "2021-12-28T04:28:37.834366Z",
     "iopub.status.busy": "2021-12-28T04:28:37.834102Z",
     "iopub.status.idle": "2021-12-28T04:28:38.018832Z",
     "shell.execute_reply": "2021-12-28T04:28:38.017921Z",
     "shell.execute_reply.started": "2021-12-28T04:28:37.834331Z"
    },
    "jupyter": {
     "outputs_hidden": false
    }
   },
   "outputs": [],
   "source": [
    "model.evaluate(test_X, test_Y)"
   ]
  },
  {
   "cell_type": "code",
   "execution_count": null,
   "metadata": {
    "_cell_guid": "813b89a7-ebc2-49b6-9849-ec6e9ef24373",
    "_uuid": "bcb961a3-1b00-4aa4-a520-f9f6de077ca7",
    "execution": {
     "iopub.execute_input": "2021-12-28T04:28:38.020654Z",
     "iopub.status.busy": "2021-12-28T04:28:38.020382Z",
     "iopub.status.idle": "2021-12-28T04:28:38.446575Z",
     "shell.execute_reply": "2021-12-28T04:28:38.445860Z",
     "shell.execute_reply.started": "2021-12-28T04:28:38.020618Z"
    },
    "jupyter": {
     "outputs_hidden": false
    }
   },
   "outputs": [],
   "source": [
    "predicted  = model.predict(test_X)\n",
    "test_label = test_Y.reshape(-1,1)\n",
    "predicted = np.array(predicted[:,0]).reshape(-1,1)\n",
    "len_t = len(train_X)\n",
    "for j in range(len_t , len_t + len(test_X)):\n",
    "    temp = data2.iloc[j,3]\n",
    "    test_label[j - len_t] = test_label[j - len_t] * temp + temp\n",
    "    predicted[j - len_t] = predicted[j - len_t] * temp + temp\n",
    "plt.plot(predicted, color = 'green', label = 'Predicted  Stock Price')\n",
    "plt.plot(test_label, color = 'red', label = 'Real Stock Price')\n",
    "plt.title(' Stock Price Prediction')\n",
    "plt.xlabel('Time')\n",
    "plt.ylabel(' Stock Price')\n",
    "plt.legend()\n",
    "plt.show()"
   ]
  },
  {
   "cell_type": "code",
   "execution_count": null,
   "metadata": {
    "_cell_guid": "5c4dc9cf-7867-4056-870f-43cfe906372b",
    "_uuid": "0cb1050b-fd5b-4e91-a026-d02e575db36f",
    "execution": {
     "iopub.execute_input": "2021-12-28T04:28:38.448350Z",
     "iopub.status.busy": "2021-12-28T04:28:38.448073Z",
     "iopub.status.idle": "2021-12-28T04:28:48.693798Z",
     "shell.execute_reply": "2021-12-28T04:28:48.692961Z",
     "shell.execute_reply.started": "2021-12-28T04:28:38.448314Z"
    },
    "jupyter": {
     "outputs_hidden": false
    }
   },
   "outputs": [],
   "source": [
    "# Converting model from HDF5 format to TFJS format...\n",
    "!pip install tensorflowjs[wizard]\n",
    "# Need to be done on a CLI and not in notebook\n",
    "!tensorflowjs_converter --input_format=keras /kaggle/working/model.h5 /kaggle/working/model-tjs"
   ]
  },
  {
   "cell_type": "markdown",
   "metadata": {
    "_cell_guid": "24b78397-6757-46ed-92d9-4693f0ace3fe",
    "_uuid": "6b99ca66-adfa-471f-be78-a849034d2c7f"
   },
   "source": [
    "# EDA"
   ]
  },
  {
   "cell_type": "markdown",
   "metadata": {
    "_cell_guid": "b79027e0-185b-4c99-a17a-4feaa3385cfb",
    "_uuid": "f2d98fc3-b03b-4648-9550-c8fce3ab6582"
   },
   "source": [
    "This section is exploratory data analysis on the dataset collected. This is just for analysing the data..."
   ]
  },
  {
   "cell_type": "code",
   "execution_count": null,
   "metadata": {
    "_cell_guid": "8a7031b5-f0c5-4ff0-bdd3-3deb6ac30aaf",
    "_uuid": "7455e49d-40d2-4742-b15d-993c063b3a18",
    "execution": {
     "iopub.execute_input": "2021-12-28T04:28:48.696751Z",
     "iopub.status.busy": "2021-12-28T04:28:48.696451Z",
     "iopub.status.idle": "2021-12-28T04:28:48.733278Z",
     "shell.execute_reply": "2021-12-28T04:28:48.732552Z",
     "shell.execute_reply.started": "2021-12-28T04:28:48.696714Z"
    },
    "jupyter": {
     "outputs_hidden": false
    }
   },
   "outputs": [],
   "source": [
    "dataX = pd.read_csv('./data.csv')\n",
    "dataY = pd.read_csv('./data.csv')\n",
    "dataX.info()"
   ]
  },
  {
   "cell_type": "code",
   "execution_count": null,
   "metadata": {
    "_cell_guid": "d8df23be-11dd-4e09-818e-63b21cb89021",
    "_uuid": "bd4aa17e-d4d8-45d4-86c0-3f7c6152a648",
    "execution": {
     "iopub.execute_input": "2021-12-28T04:28:48.735624Z",
     "iopub.status.busy": "2021-12-28T04:28:48.735409Z",
     "iopub.status.idle": "2021-12-28T04:28:48.751687Z",
     "shell.execute_reply": "2021-12-28T04:28:48.750952Z",
     "shell.execute_reply.started": "2021-12-28T04:28:48.735600Z"
    },
    "jupyter": {
     "outputs_hidden": false
    }
   },
   "outputs": [],
   "source": [
    "dataX.head()"
   ]
  },
  {
   "cell_type": "code",
   "execution_count": null,
   "metadata": {
    "_cell_guid": "2754ce60-9b7f-4812-8266-15174145c018",
    "_uuid": "e651eaef-2658-4877-b42c-e11f409f186a",
    "execution": {
     "iopub.execute_input": "2021-12-28T04:28:48.753143Z",
     "iopub.status.busy": "2021-12-28T04:28:48.752825Z",
     "iopub.status.idle": "2021-12-28T04:28:48.777700Z",
     "shell.execute_reply": "2021-12-28T04:28:48.776904Z",
     "shell.execute_reply.started": "2021-12-28T04:28:48.753081Z"
    },
    "jupyter": {
     "outputs_hidden": false
    }
   },
   "outputs": [],
   "source": [
    "start_date = '2020-01-01'\n",
    "end_date = '2021-11-29'\n",
    "\n",
    "start = '2018-01-01'\n",
    "end = '2020-01-01'\n",
    "\n",
    "fill = (dataX['date']>=start_date) & (dataX['date']<=end_date)\n",
    "dataX = dataX.loc[fill]\n",
    "dataX"
   ]
  },
  {
   "cell_type": "code",
   "execution_count": null,
   "metadata": {
    "_cell_guid": "0dea7ae0-3490-421b-9b15-c24fefce4852",
    "_uuid": "ca3c69c0-3c88-4c11-8582-da92be66cfab",
    "execution": {
     "iopub.execute_input": "2021-12-28T04:28:48.780641Z",
     "iopub.status.busy": "2021-12-28T04:28:48.779769Z",
     "iopub.status.idle": "2021-12-28T04:28:48.802566Z",
     "shell.execute_reply": "2021-12-28T04:28:48.801412Z",
     "shell.execute_reply.started": "2021-12-28T04:28:48.780601Z"
    },
    "jupyter": {
     "outputs_hidden": false
    }
   },
   "outputs": [],
   "source": [
    "fill2 = (dataY['date']>=start) & (dataY['date']<=end)\n",
    "dataY = dataY.loc[fill2]\n",
    "dataY"
   ]
  },
  {
   "cell_type": "code",
   "execution_count": null,
   "metadata": {
    "_cell_guid": "7078455c-e314-4e27-8247-e5633484e36a",
    "_uuid": "1e4fe656-26dd-46c0-bded-b144f152bf31",
    "execution": {
     "iopub.execute_input": "2021-12-28T04:28:48.804328Z",
     "iopub.status.busy": "2021-12-28T04:28:48.803853Z",
     "iopub.status.idle": "2021-12-28T04:28:48.835111Z",
     "shell.execute_reply": "2021-12-28T04:28:48.834477Z",
     "shell.execute_reply.started": "2021-12-28T04:28:48.804293Z"
    },
    "jupyter": {
     "outputs_hidden": false
    }
   },
   "outputs": [],
   "source": [
    "dataX.describe()"
   ]
  },
  {
   "cell_type": "code",
   "execution_count": null,
   "metadata": {
    "_cell_guid": "a8f5b351-a270-417c-9d4e-c2ce0e9acb52",
    "_uuid": "a6781176-75d8-425f-bd29-54af87c36e4d",
    "execution": {
     "iopub.execute_input": "2021-12-28T04:28:48.836573Z",
     "iopub.status.busy": "2021-12-28T04:28:48.836312Z",
     "iopub.status.idle": "2021-12-28T04:28:48.864198Z",
     "shell.execute_reply": "2021-12-28T04:28:48.863567Z",
     "shell.execute_reply.started": "2021-12-28T04:28:48.836541Z"
    },
    "jupyter": {
     "outputs_hidden": false
    }
   },
   "outputs": [],
   "source": [
    "dataY.describe()"
   ]
  },
  {
   "cell_type": "code",
   "execution_count": null,
   "metadata": {
    "_cell_guid": "4cabcf6c-5a1c-46f9-a7a2-bc07fb0b9636",
    "_uuid": "068abd89-fc76-4add-a80d-97bcf5da3338",
    "execution": {
     "iopub.execute_input": "2021-12-28T04:28:48.865714Z",
     "iopub.status.busy": "2021-12-28T04:28:48.865434Z",
     "iopub.status.idle": "2021-12-28T04:28:49.225743Z",
     "shell.execute_reply": "2021-12-28T04:28:49.224896Z",
     "shell.execute_reply.started": "2021-12-28T04:28:48.865681Z"
    },
    "jupyter": {
     "outputs_hidden": false
    }
   },
   "outputs": [],
   "source": [
    "from statsmodels.stats.outliers_influence import variance_inflation_factor\n",
    "from sklearn.model_selection import train_test_split,GridSearchCV,RandomizedSearchCV\n",
    "from sklearn.linear_model import LinearRegression,Ridge,Lasso\n",
    "from sklearn.tree import DecisionTreeRegressor\n",
    "from sklearn.ensemble import RandomForestRegressor,GradientBoostingRegressor\n",
    "from sklearn.metrics import r2_score,mean_squared_error\n",
    "\n",
    "sns_plot = sns.distplot(dataX['close'])\n",
    "sns_plot2 = sns.distplot(dataY['close'])"
   ]
  },
  {
   "cell_type": "code",
   "execution_count": null,
   "metadata": {
    "_cell_guid": "e0bca6ee-3dc9-437f-b094-d1ab9e99e45c",
    "_uuid": "6f9482b6-68e0-4057-9437-b0f95a50fcb0",
    "execution": {
     "iopub.execute_input": "2021-12-28T04:28:49.227649Z",
     "iopub.status.busy": "2021-12-28T04:28:49.227223Z",
     "iopub.status.idle": "2021-12-28T04:28:50.963595Z",
     "shell.execute_reply": "2021-12-28T04:28:50.962917Z",
     "shell.execute_reply.started": "2021-12-28T04:28:49.227610Z"
    },
    "jupyter": {
     "outputs_hidden": false
    }
   },
   "outputs": [],
   "source": [
    "fig, ax = plt.subplots(4, 2, figsize = (15, 13))\n",
    "sns.boxplot(x= dataX[\"close\"], ax = ax[0,0])\n",
    "sns.distplot(dataX['close'], ax = ax[0,1])\n",
    "sns.boxplot(x= dataX[\"open\"], ax = ax[1,0])\n",
    "sns.distplot(dataX['open'], ax = ax[1,1])\n",
    "sns.boxplot(x= dataX[\"high\"], ax = ax[2,0])\n",
    "sns.distplot(dataX['high'], ax = ax[2,1])\n",
    "sns.boxplot(x= dataX[\"low\"], ax = ax[3,0])\n",
    "sns.distplot(dataX['low'], ax = ax[3,1])\n",
    "plt.tight_layout()"
   ]
  },
  {
   "cell_type": "code",
   "execution_count": null,
   "metadata": {
    "_cell_guid": "65241c52-d865-4a8c-b9d4-3bd4f341fd71",
    "_uuid": "9ed44c6b-8e19-4cc4-a85c-d6ef1ce3eafd",
    "execution": {
     "iopub.execute_input": "2021-12-28T04:28:50.965558Z",
     "iopub.status.busy": "2021-12-28T04:28:50.964842Z",
     "iopub.status.idle": "2021-12-28T04:28:53.667608Z",
     "shell.execute_reply": "2021-12-28T04:28:53.666890Z",
     "shell.execute_reply.started": "2021-12-28T04:28:50.965517Z"
    },
    "jupyter": {
     "outputs_hidden": false
    }
   },
   "outputs": [],
   "source": [
    "fig, ax = plt.subplots(4, 2, figsize = (15, 13))\n",
    "sns.boxplot(x= dataY[\"close\"], ax = ax[0,0])\n",
    "sns.distplot(dataY['close'], ax = ax[0,1])\n",
    "sns.boxplot(x= dataY[\"open\"], ax = ax[1,0])\n",
    "sns.distplot(dataY['open'], ax = ax[1,1])\n",
    "sns.boxplot(x= dataY[\"high\"], ax = ax[2,0])\n",
    "sns.distplot(dataY['high'], ax = ax[2,1])\n",
    "sns.boxplot(x= dataY[\"low\"], ax = ax[3,0])\n",
    "sns.distplot(dataY['low'], ax = ax[3,1])\n",
    "plt.tight_layout()"
   ]
  },
  {
   "cell_type": "code",
   "execution_count": null,
   "metadata": {
    "_cell_guid": "60f20d8c-5d9a-4c39-9a64-bed919bca0f9",
    "_uuid": "40dbf8cc-7895-4ddc-9e5b-2b3f371b2165",
    "execution": {
     "iopub.execute_input": "2021-12-28T04:28:53.669286Z",
     "iopub.status.busy": "2021-12-28T04:28:53.668906Z",
     "iopub.status.idle": "2021-12-28T04:28:54.058554Z",
     "shell.execute_reply": "2021-12-28T04:28:54.057870Z",
     "shell.execute_reply.started": "2021-12-28T04:28:53.669252Z"
    },
    "jupyter": {
     "outputs_hidden": false
    }
   },
   "outputs": [],
   "source": [
    "plt.figure(figsize=(10,6))\n",
    "sns.heatmap(dataX.corr(),cmap=plt.cm.Reds,annot=True)\n",
    "plt.title('Heatmap displaying the relationship between the features of the data (During COVID)',\n",
    "         fontsize=13)\n",
    "plt.show()"
   ]
  },
  {
   "cell_type": "code",
   "execution_count": null,
   "metadata": {
    "_cell_guid": "d6f5289c-41a2-4dff-bcd9-9ceee3c80458",
    "_uuid": "9185840c-f706-4cf8-ac0f-4c4c3c69553d",
    "execution": {
     "iopub.execute_input": "2021-12-28T04:28:54.060582Z",
     "iopub.status.busy": "2021-12-28T04:28:54.060142Z",
     "iopub.status.idle": "2021-12-28T04:28:54.629794Z",
     "shell.execute_reply": "2021-12-28T04:28:54.629130Z",
     "shell.execute_reply.started": "2021-12-28T04:28:54.060528Z"
    },
    "jupyter": {
     "outputs_hidden": false
    }
   },
   "outputs": [],
   "source": [
    "plt.figure(figsize=(10,6))\n",
    "sns.heatmap(dataY.corr(),cmap=plt.cm.Blues,annot=True)\n",
    "plt.title('Heatmap displaying the relationship between the features of the data (Before COVID)',\n",
    "         fontsize=13)\n",
    "plt.show()"
   ]
  },
  {
   "cell_type": "code",
   "execution_count": null,
   "metadata": {
    "_cell_guid": "400e01d9-631c-48af-a305-fb2621e3e344",
    "_uuid": "997d0348-bceb-46d4-a013-17554e864d20",
    "execution": {
     "iopub.execute_input": "2021-12-28T04:28:54.633236Z",
     "iopub.status.busy": "2021-12-28T04:28:54.632814Z",
     "iopub.status.idle": "2021-12-28T04:28:54.671220Z",
     "shell.execute_reply": "2021-12-28T04:28:54.670492Z",
     "shell.execute_reply.started": "2021-12-28T04:28:54.633197Z"
    },
    "jupyter": {
     "outputs_hidden": false
    }
   },
   "outputs": [],
   "source": [
    "# For other company....\n",
    "\n",
    "# UNCOMMENT IF NEEDED...\n",
    "#cv2 = request_stock_price_list('RELIANCE.BSE', 'full', key)\n",
    "#print(cv2.head)\n",
    "#cv2.to_csv('data2.csv')\n",
    "\n",
    "dataX = pd.read_csv('./data2.csv')\n",
    "dataY = pd.read_csv('./data2.csv')\n",
    "dataX.info()"
   ]
  },
  {
   "cell_type": "code",
   "execution_count": null,
   "metadata": {
    "_cell_guid": "8ae0421e-b1a5-485a-8f6a-efb3856fa73d",
    "_uuid": "01e8051d-341c-4247-9818-3a41e1659cb9",
    "execution": {
     "iopub.execute_input": "2021-12-28T04:28:54.674265Z",
     "iopub.status.busy": "2021-12-28T04:28:54.673962Z",
     "iopub.status.idle": "2021-12-28T04:28:54.705844Z",
     "shell.execute_reply": "2021-12-28T04:28:54.705103Z",
     "shell.execute_reply.started": "2021-12-28T04:28:54.674226Z"
    },
    "jupyter": {
     "outputs_hidden": false
    }
   },
   "outputs": [],
   "source": [
    "start_date = '2020-01-01'\n",
    "end_date = '2021-11-29'\n",
    "\n",
    "start = '2018-01-01'\n",
    "end = '2020-01-01'\n",
    "\n",
    "fill = (dataX['date']>=start_date) & (dataX['date']<=end_date)\n",
    "dataX = dataX.loc[fill]\n",
    "dataX"
   ]
  },
  {
   "cell_type": "code",
   "execution_count": null,
   "metadata": {
    "_cell_guid": "56703e53-b86a-4862-a1df-6d69f19914f4",
    "_uuid": "c2d717e4-7230-4107-afd5-e22d3578506b",
    "execution": {
     "iopub.execute_input": "2021-12-28T04:28:54.709719Z",
     "iopub.status.busy": "2021-12-28T04:28:54.709228Z",
     "iopub.status.idle": "2021-12-28T04:28:54.737364Z",
     "shell.execute_reply": "2021-12-28T04:28:54.736576Z",
     "shell.execute_reply.started": "2021-12-28T04:28:54.709682Z"
    },
    "jupyter": {
     "outputs_hidden": false
    }
   },
   "outputs": [],
   "source": [
    "fill2 = (dataY['date']>=start) & (dataY['date']<=end)\n",
    "dataY = dataY.loc[fill2]\n",
    "dataY"
   ]
  },
  {
   "cell_type": "code",
   "execution_count": null,
   "metadata": {
    "_cell_guid": "5b6649d4-54fe-4488-b79a-1dd4971ecabe",
    "_uuid": "773543b9-0061-405e-b4f1-c78cf4b0086e",
    "execution": {
     "iopub.execute_input": "2021-12-28T04:28:54.744803Z",
     "iopub.status.busy": "2021-12-28T04:28:54.742664Z",
     "iopub.status.idle": "2021-12-28T04:28:54.780841Z",
     "shell.execute_reply": "2021-12-28T04:28:54.780115Z",
     "shell.execute_reply.started": "2021-12-28T04:28:54.744765Z"
    },
    "jupyter": {
     "outputs_hidden": false
    }
   },
   "outputs": [],
   "source": [
    "dataX.describe()"
   ]
  },
  {
   "cell_type": "code",
   "execution_count": null,
   "metadata": {
    "_cell_guid": "f323828e-7a55-45a2-8784-8a3b97b152ab",
    "_uuid": "569a35ed-b298-4fab-a06c-07b96229a800",
    "execution": {
     "iopub.execute_input": "2021-12-28T04:28:54.786539Z",
     "iopub.status.busy": "2021-12-28T04:28:54.784379Z",
     "iopub.status.idle": "2021-12-28T04:28:54.822564Z",
     "shell.execute_reply": "2021-12-28T04:28:54.821816Z",
     "shell.execute_reply.started": "2021-12-28T04:28:54.786500Z"
    },
    "jupyter": {
     "outputs_hidden": false
    }
   },
   "outputs": [],
   "source": [
    "dataY.describe()"
   ]
  },
  {
   "cell_type": "code",
   "execution_count": null,
   "metadata": {
    "_cell_guid": "e5e1ac4c-4274-4092-9d14-dbb5a5edaffd",
    "_uuid": "907d85d6-cbb6-4708-823f-853c27a71cee",
    "execution": {
     "iopub.execute_input": "2021-12-28T04:28:54.824423Z",
     "iopub.status.busy": "2021-12-28T04:28:54.823935Z",
     "iopub.status.idle": "2021-12-28T04:28:55.204060Z",
     "shell.execute_reply": "2021-12-28T04:28:55.203140Z",
     "shell.execute_reply.started": "2021-12-28T04:28:54.824388Z"
    },
    "jupyter": {
     "outputs_hidden": false
    }
   },
   "outputs": [],
   "source": [
    "sns_plot = sns.distplot(dataX['close'])\n",
    "sns_plot2 = sns.distplot(dataY['close'])"
   ]
  },
  {
   "cell_type": "code",
   "execution_count": null,
   "metadata": {
    "_cell_guid": "64c71170-cfa9-474d-b154-d405320702a6",
    "_uuid": "465c430f-16d3-4b6c-b83f-708dbe620ec2",
    "execution": {
     "iopub.execute_input": "2021-12-28T04:28:55.206526Z",
     "iopub.status.busy": "2021-12-28T04:28:55.206237Z",
     "iopub.status.idle": "2021-12-28T04:28:57.198968Z",
     "shell.execute_reply": "2021-12-28T04:28:57.198276Z",
     "shell.execute_reply.started": "2021-12-28T04:28:55.206487Z"
    },
    "jupyter": {
     "outputs_hidden": false
    }
   },
   "outputs": [],
   "source": [
    "fig, ax = plt.subplots(4, 2, figsize = (15, 13))\n",
    "sns.boxplot(x= dataX[\"close\"], ax = ax[0,0])\n",
    "sns.distplot(dataX['close'], ax = ax[0,1])\n",
    "sns.boxplot(x= dataX[\"open\"], ax = ax[1,0])\n",
    "sns.distplot(dataX['open'], ax = ax[1,1])\n",
    "sns.boxplot(x= dataX[\"high\"], ax = ax[2,0])\n",
    "sns.distplot(dataX['high'], ax = ax[2,1])\n",
    "sns.boxplot(x= dataX[\"low\"], ax = ax[3,0])\n",
    "sns.distplot(dataX['low'], ax = ax[3,1])\n",
    "plt.tight_layout()"
   ]
  },
  {
   "cell_type": "code",
   "execution_count": null,
   "metadata": {
    "_cell_guid": "2f478600-5bac-4ded-a9f0-a343536747da",
    "_uuid": "3ba5f555-fa0f-4586-ae5c-c11eff9eb36f",
    "execution": {
     "iopub.execute_input": "2021-12-28T04:28:57.200874Z",
     "iopub.status.busy": "2021-12-28T04:28:57.200186Z",
     "iopub.status.idle": "2021-12-28T04:28:59.316463Z",
     "shell.execute_reply": "2021-12-28T04:28:59.315620Z",
     "shell.execute_reply.started": "2021-12-28T04:28:57.200832Z"
    },
    "jupyter": {
     "outputs_hidden": false
    }
   },
   "outputs": [],
   "source": [
    "fig, ax = plt.subplots(4, 2, figsize = (15, 13))\n",
    "sns.boxplot(x= dataY[\"close\"], ax = ax[0,0])\n",
    "sns.distplot(dataY['close'], ax = ax[0,1])\n",
    "sns.boxplot(x= dataY[\"open\"], ax = ax[1,0])\n",
    "sns.distplot(dataY['open'], ax = ax[1,1])\n",
    "sns.boxplot(x= dataY[\"high\"], ax = ax[2,0])\n",
    "sns.distplot(dataY['high'], ax = ax[2,1])\n",
    "sns.boxplot(x= dataY[\"low\"], ax = ax[3,0])\n",
    "sns.distplot(dataY['low'], ax = ax[3,1])\n",
    "plt.tight_layout()"
   ]
  },
  {
   "cell_type": "code",
   "execution_count": null,
   "metadata": {
    "_cell_guid": "fc341b09-7007-462b-83da-4dee14150908",
    "_uuid": "65da6666-c8c9-439c-825e-a432b5fb66a3",
    "execution": {
     "iopub.execute_input": "2021-12-28T04:28:59.320618Z",
     "iopub.status.busy": "2021-12-28T04:28:59.320357Z",
     "iopub.status.idle": "2021-12-28T04:28:59.892706Z",
     "shell.execute_reply": "2021-12-28T04:28:59.891881Z",
     "shell.execute_reply.started": "2021-12-28T04:28:59.320584Z"
    },
    "jupyter": {
     "outputs_hidden": false
    }
   },
   "outputs": [],
   "source": [
    "plt.figure(figsize=(10,6))\n",
    "sns.heatmap(dataX.corr(),cmap=plt.cm.Reds,annot=True)\n",
    "plt.title('Heatmap displaying the relationship between the features of the data (During COVID)',\n",
    "         fontsize=13)\n",
    "plt.show()"
   ]
  },
  {
   "cell_type": "code",
   "execution_count": null,
   "metadata": {
    "_cell_guid": "6c8b70df-7253-4e90-9ab2-5480172a1e82",
    "_uuid": "b02e330c-437e-441e-b266-95dd0d07d5d8",
    "execution": {
     "iopub.execute_input": "2021-12-28T04:28:59.899872Z",
     "iopub.status.busy": "2021-12-28T04:28:59.897479Z",
     "iopub.status.idle": "2021-12-28T04:29:00.339992Z",
     "shell.execute_reply": "2021-12-28T04:29:00.339293Z",
     "shell.execute_reply.started": "2021-12-28T04:28:59.899824Z"
    },
    "jupyter": {
     "outputs_hidden": false
    }
   },
   "outputs": [],
   "source": [
    "plt.figure(figsize=(10,6))\n",
    "sns.heatmap(dataY.corr(),cmap=plt.cm.Blues,annot=True)\n",
    "plt.title('Heatmap displaying the relationship between the features of the data (Before COVID)',\n",
    "         fontsize=13)\n",
    "plt.show()"
   ]
  },
  {
   "cell_type": "code",
   "execution_count": null,
   "metadata": {
    "_cell_guid": "8508d940-41a9-4f8c-8b5e-d721b062e3b6",
    "_uuid": "048e65af-f62c-4250-819a-2b4fdbd4a2e9",
    "jupyter": {
     "outputs_hidden": false
    }
   },
   "outputs": [],
   "source": []
  }
 ],
 "metadata": {
  "kernelspec": {
   "display_name": "Python 3 (ipykernel)",
   "language": "python",
   "name": "python3"
  },
  "language_info": {
   "codemirror_mode": {
    "name": "ipython",
    "version": 3
   },
   "file_extension": ".py",
   "mimetype": "text/x-python",
   "name": "python",
   "nbconvert_exporter": "python",
   "pygments_lexer": "ipython3",
   "version": "3.11.5"
  }
 },
 "nbformat": 4,
 "nbformat_minor": 4
}
